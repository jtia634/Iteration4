{
 "cells": [
  {
   "cell_type": "code",
   "execution_count": 1,
   "metadata": {},
   "outputs": [],
   "source": [
    "import findspark\n",
    "findspark.init('/home/ubuntu/spark-2.1.1-bin-hadoop2.7')\n",
    "import pyspark\n",
    "from pyspark.sql import SparkSession\n",
    "spark = SparkSession.builder.appName('iteration4').getOrCreate()\n",
    "import gc"
   ]
  },
  {
   "cell_type": "code",
   "execution_count": 2,
   "metadata": {},
   "outputs": [],
   "source": [
    "df1 = spark.read.load(\"./Crash_Analysis_System_CAS_data-1.csv\", format = \"csv\", header = \"true\")"
   ]
  },
  {
   "cell_type": "code",
   "execution_count": 3,
   "metadata": {},
   "outputs": [],
   "source": [
    "df2 = spark.read.load(\"./Crash_Analysis_System_CAS_data-2.csv\", format = \"csv\", header = \"true\")"
   ]
  },
  {
   "cell_type": "code",
   "execution_count": 4,
   "metadata": {},
   "outputs": [],
   "source": [
    "df3 = spark.read.load(\"./Crash_Analysis_System_CAS_data-3.csv\", format = \"csv\", header = \"true\")"
   ]
  },
  {
   "cell_type": "code",
   "execution_count": 5,
   "metadata": {},
   "outputs": [],
   "source": [
    "df4 = spark.read.load(\"./Crash_Analysis_System_CAS_data-4.csv\", format = \"csv\", header = \"true\")"
   ]
  },
  {
   "cell_type": "code",
   "execution_count": 6,
   "metadata": {},
   "outputs": [],
   "source": [
    "df5 = spark.read.load(\"./Crash_Analysis_System_CAS_data-5.csv\", format = \"csv\", header = \"true\")"
   ]
  },
  {
   "cell_type": "code",
   "execution_count": 7,
   "metadata": {},
   "outputs": [],
   "source": [
    "df6 = spark.read.load(\"./Crash_Analysis_System_CAS_data-6.csv\", format = \"csv\", header = \"true\")"
   ]
  },
  {
   "cell_type": "code",
   "execution_count": 8,
   "metadata": {},
   "outputs": [],
   "source": [
    "df7 = spark.read.load(\"./Crash_Analysis_System_CAS_data-7.csv\", format = \"csv\", header = \"true\")"
   ]
  },
  {
   "cell_type": "code",
   "execution_count": 9,
   "metadata": {},
   "outputs": [],
   "source": [
    "df8 = spark.read.load(\"./Crash_Analysis_System_CAS_data-8.csv\", format = \"csv\", header = \"true\")"
   ]
  },
  {
   "cell_type": "code",
   "execution_count": 10,
   "metadata": {},
   "outputs": [],
   "source": [
    "df9 = spark.read.load(\"./Crash_Analysis_System_CAS_data-9.csv\", format = \"csv\", header = \"true\")"
   ]
  },
  {
   "cell_type": "code",
   "execution_count": 11,
   "metadata": {},
   "outputs": [],
   "source": [
    "df10 = spark.read.load(\"./Crash_Analysis_System_CAS_data-10.csv\", format = \"csv\", header = \"true\")"
   ]
  },
  {
   "cell_type": "code",
   "execution_count": 12,
   "metadata": {},
   "outputs": [],
   "source": [
    "df11 = spark.read.load(\"./Crash_Analysis_System_CAS_data-11.csv\", format = \"csv\", header = \"true\")"
   ]
  },
  {
   "cell_type": "code",
   "execution_count": 13,
   "metadata": {},
   "outputs": [],
   "source": [
    "df12 = spark.read.load(\"./Crash_Analysis_System_CAS_data-12.csv\", format = \"csv\", header = \"true\")"
   ]
  },
  {
   "cell_type": "code",
   "execution_count": 14,
   "metadata": {},
   "outputs": [],
   "source": [
    "df13 = spark.read.load(\"./Crash_Analysis_System_CAS_data-13.csv\", format = \"csv\", header = \"true\")"
   ]
  },
  {
   "cell_type": "code",
   "execution_count": 15,
   "metadata": {},
   "outputs": [],
   "source": [
    "df14 = spark.read.load(\"./Crash_Analysis_System_CAS_data-14.csv\", format = \"csv\", header = \"true\")"
   ]
  },
  {
   "cell_type": "code",
   "execution_count": 16,
   "metadata": {},
   "outputs": [],
   "source": [
    "df15 = spark.read.load(\"./Crash_Analysis_System_CAS_data-15.csv\", format = \"csv\", header = \"true\")"
   ]
  },
  {
   "cell_type": "code",
   "execution_count": 17,
   "metadata": {},
   "outputs": [],
   "source": [
    "df = df1.union(df2)"
   ]
  },
  {
   "cell_type": "code",
   "execution_count": 18,
   "metadata": {},
   "outputs": [],
   "source": [
    "df = df.union(df3)"
   ]
  },
  {
   "cell_type": "code",
   "execution_count": 19,
   "metadata": {},
   "outputs": [],
   "source": [
    "df = df.union(df4)"
   ]
  },
  {
   "cell_type": "code",
   "execution_count": 20,
   "metadata": {},
   "outputs": [],
   "source": [
    "df = df.union(df5)"
   ]
  },
  {
   "cell_type": "code",
   "execution_count": 21,
   "metadata": {},
   "outputs": [],
   "source": [
    "df = df.union(df6).union(df7)"
   ]
  },
  {
   "cell_type": "code",
   "execution_count": 22,
   "metadata": {},
   "outputs": [],
   "source": [
    "df = df.union(df8).union(df9).union(df10).union(df11).union(df12).union(df13).union(df14).union(df15)"
   ]
  },
  {
   "cell_type": "code",
   "execution_count": 23,
   "metadata": {},
   "outputs": [
    {
     "data": {
      "text/plain": [
       "168"
      ]
     },
     "execution_count": 23,
     "metadata": {},
     "output_type": "execute_result"
    }
   ],
   "source": [
    "del df1\n",
    "del df2\n",
    "del df3\n",
    "del df4\n",
    "del df5\n",
    "del df6\n",
    "del df7\n",
    "del df8\n",
    "del df9\n",
    "del df10\n",
    "del df11\n",
    "del df12\n",
    "del df13\n",
    "del df14\n",
    "del df15\n",
    "gc.collect()"
   ]
  },
  {
   "cell_type": "code",
   "execution_count": 24,
   "metadata": {},
   "outputs": [
    {
     "data": {
      "text/plain": [
       "(705824, 79)"
      ]
     },
     "execution_count": 24,
     "metadata": {},
     "output_type": "execute_result"
    }
   ],
   "source": [
    "df.count(), len(df.columns)"
   ]
  },
  {
   "cell_type": "code",
   "execution_count": 24,
   "metadata": {},
   "outputs": [],
   "source": [
    "auckland = df.filter(df.region == \"Auckland Region\")"
   ]
  },
  {
   "cell_type": "code",
   "execution_count": 26,
   "metadata": {},
   "outputs": [
    {
     "data": {
      "text/plain": [
       "252226"
      ]
     },
     "execution_count": 26,
     "metadata": {},
     "output_type": "execute_result"
    }
   ],
   "source": [
    "auckland.count()"
   ]
  },
  {
   "cell_type": "code",
   "execution_count": 25,
   "metadata": {},
   "outputs": [
    {
     "name": "stdout",
     "output_type": "stream",
     "text": [
      "root\n",
      " |-- ﻿X: string (nullable = true)\n",
      " |-- Y: string (nullable = true)\n",
      " |-- OBJECTID: string (nullable = true)\n",
      " |-- advisorySpeed: string (nullable = true)\n",
      " |-- animals: string (nullable = true)\n",
      " |-- areaUnitID: string (nullable = true)\n",
      " |-- bicycle: string (nullable = true)\n",
      " |-- bridge: string (nullable = true)\n",
      " |-- bus: string (nullable = true)\n",
      " |-- carStationWagon: string (nullable = true)\n",
      " |-- cliffBank: string (nullable = true)\n",
      " |-- crashDirectionDescription: string (nullable = true)\n",
      " |-- crashDistance: string (nullable = true)\n",
      " |-- crashFinancialYear: string (nullable = true)\n",
      " |-- crashLocation1: string (nullable = true)\n",
      " |-- crashLocation2: string (nullable = true)\n",
      " |-- crashSeverity: string (nullable = true)\n",
      " |-- crashSHDescription: string (nullable = true)\n",
      " |-- crashYear: string (nullable = true)\n",
      " |-- debris: string (nullable = true)\n",
      " |-- directionRoleDescription: string (nullable = true)\n",
      " |-- ditch: string (nullable = true)\n",
      " |-- easting: string (nullable = true)\n",
      " |-- fatalCount: string (nullable = true)\n",
      " |-- fence: string (nullable = true)\n",
      " |-- flatHill: string (nullable = true)\n",
      " |-- guardRail: string (nullable = true)\n",
      " |-- holiday: string (nullable = true)\n",
      " |-- houseOrBuilding: string (nullable = true)\n",
      " |-- intersectionMidblock: string (nullable = true)\n",
      " |-- junctionType: string (nullable = true)\n",
      " |-- kerb: string (nullable = true)\n",
      " |-- light: string (nullable = true)\n",
      " |-- meshblockId: string (nullable = true)\n",
      " |-- minorInjuryCount: string (nullable = true)\n",
      " |-- moped: string (nullable = true)\n",
      " |-- motorcycle: string (nullable = true)\n",
      " |-- northing: string (nullable = true)\n",
      " |-- NumberOfLanes: string (nullable = true)\n",
      " |-- objectThrownOrDropped: string (nullable = true)\n",
      " |-- otherObject: string (nullable = true)\n",
      " |-- otherVehicleType: string (nullable = true)\n",
      " |-- outdatedLocationDescription: string (nullable = true)\n",
      " |-- overBank: string (nullable = true)\n",
      " |-- parkedVehicle: string (nullable = true)\n",
      " |-- pedestrian: string (nullable = true)\n",
      " |-- phoneBoxEtc: string (nullable = true)\n",
      " |-- postOrPole: string (nullable = true)\n",
      " |-- region: string (nullable = true)\n",
      " |-- roadCharacter: string (nullable = true)\n",
      " |-- roadCurvature: string (nullable = true)\n",
      " |-- roadLane: string (nullable = true)\n",
      " |-- roadMarkings: string (nullable = true)\n",
      " |-- roadSurface: string (nullable = true)\n",
      " |-- roadworks: string (nullable = true)\n",
      " |-- schoolBus: string (nullable = true)\n",
      " |-- seriousInjuryCount: string (nullable = true)\n",
      " |-- slipOrFlood: string (nullable = true)\n",
      " |-- speedLimit: string (nullable = true)\n",
      " |-- strayAnimal: string (nullable = true)\n",
      " |-- streetLight: string (nullable = true)\n",
      " |-- suv: string (nullable = true)\n",
      " |-- taxi: string (nullable = true)\n",
      " |-- temporarySpeedLimit: string (nullable = true)\n",
      " |-- tlaId: string (nullable = true)\n",
      " |-- tlaName: string (nullable = true)\n",
      " |-- trafficControl: string (nullable = true)\n",
      " |-- trafficIsland: string (nullable = true)\n",
      " |-- trafficSign: string (nullable = true)\n",
      " |-- train: string (nullable = true)\n",
      " |-- tree: string (nullable = true)\n",
      " |-- truck: string (nullable = true)\n",
      " |-- unknownVehicleType: string (nullable = true)\n",
      " |-- urban: string (nullable = true)\n",
      " |-- vanOrUtility: string (nullable = true)\n",
      " |-- vehicle: string (nullable = true)\n",
      " |-- waterRiver: string (nullable = true)\n",
      " |-- weatherA: string (nullable = true)\n",
      " |-- weatherB: string (nullable = true)\n",
      "\n"
     ]
    }
   ],
   "source": [
    "auckland.printSchema()"
   ]
  },
  {
   "cell_type": "code",
   "execution_count": 28,
   "metadata": {},
   "outputs": [
    {
     "name": "stdout",
     "output_type": "stream",
     "text": [
      "+----------------+------+\n",
      "|   crashSeverity| count|\n",
      "+----------------+------+\n",
      "|Non-Injury Crash|192093|\n",
      "|   Serious Crash|  8757|\n",
      "|     Fatal Crash|  1080|\n",
      "|     Minor Crash| 50296|\n",
      "+----------------+------+\n",
      "\n"
     ]
    }
   ],
   "source": [
    "crashSeverity = auckland.groupBy('crashSeverity').count()\n",
    "crashSeverity.show()"
   ]
  },
  {
   "cell_type": "code",
   "execution_count": 29,
   "metadata": {},
   "outputs": [],
   "source": [
    "import matplotlib\n",
    "%matplotlib inline\n",
    "import matplotlib.pyplot as plt"
   ]
  },
  {
   "cell_type": "code",
   "execution_count": 30,
   "metadata": {},
   "outputs": [],
   "source": [
    "plot1 = crashSeverity.toPandas()\n"
   ]
  },
  {
   "cell_type": "code",
   "execution_count": 31,
   "metadata": {},
   "outputs": [],
   "source": [
    "x = plot1[\"crashSeverity\"]\n"
   ]
  },
  {
   "cell_type": "code",
   "execution_count": 32,
   "metadata": {},
   "outputs": [],
   "source": [
    "y =plot1[\"count\"]"
   ]
  },
  {
   "cell_type": "code",
   "execution_count": 33,
   "metadata": {},
   "outputs": [
    {
     "data": {
      "text/plain": [
       "<BarContainer object of 4 artists>"
      ]
     },
     "execution_count": 33,
     "metadata": {},
     "output_type": "execute_result"
    },
    {
     "data": {
      "image/png": "[encoded data removed]",
      "text/plain": [
       "<Figure size 432x288 with 1 Axes>"
      ]
     },
     "metadata": {},
     "output_type": "display_data"
    }
   ],
   "source": [
    "plt.bar(x,y)"
   ]
  },
  {
   "cell_type": "code",
   "execution_count": 34,
   "metadata": {
    "scrolled": false
   },
   "outputs": [
    {
     "data": {
      "image/png": "[encoded data removed]",
      "text/plain": [
       "<Figure size 720x360 with 1 Axes>"
      ]
     },
     "metadata": {},
     "output_type": "display_data"
    }
   ],
   "source": [
    "crash_year = auckland.groupBy('crashYear').count()\n",
    "plot2 = crash_year.toPandas()\n",
    "x = plot2[\"crashYear\"].sort_values()\n",
    "y = plot2[\"count\"]\n",
    "plt.figure(figsize = (10,5))\n",
    "plt.bar(x,y)\n",
    "plt.show()"
   ]
  },
  {
   "cell_type": "code",
   "execution_count": 35,
   "metadata": {},
   "outputs": [
    {
     "name": "stdout",
     "output_type": "stream",
     "text": [
      "+--------------------+-----+\n",
      "|      crashLocation1|count|\n",
      "+--------------------+-----+\n",
      "|               SH 1N|27883|\n",
      "|    GREAT SOUTH ROAD| 8036|\n",
      "|               SH 16| 7836|\n",
      "|    GREAT NORTH ROAD| 5337|\n",
      "|               SH 20| 3034|\n",
      "|       DOMINION ROAD| 2676|\n",
      "|      NEW NORTH ROAD| 2119|\n",
      "|      TI RAKAU DRIVE| 1771|\n",
      "|   MOUNT ALBERT ROAD| 1616|\n",
      "|      PAKURANGA ROAD| 1600|\n",
      "|     EAST COAST ROAD| 1575|\n",
      "|            QUEEN ST| 1540|\n",
      "|MOUNT WELLINGTON ...| 1466|\n",
      "|        MANUKAU ROAD| 1461|\n",
      "|       TE ATATU ROAD| 1435|\n",
      "|        LINCOLN ROAD| 1434|\n",
      "|         MASSEY ROAD| 1428|\n",
      "|    EAST TAMAKI ROAD| 1363|\n",
      "|          BEACH ROAD| 1304|\n",
      "|HIBISCUS COAST HI...| 1277|\n",
      "+--------------------+-----+\n",
      "only showing top 20 rows\n",
      "\n"
     ]
    }
   ],
   "source": [
    "crashlocation = auckland.groupBy('crashLocation1').count().orderBy('count', ascending=False)\n",
    "crashlocation.show()"
   ]
  },
  {
   "cell_type": "code",
   "execution_count": 36,
   "metadata": {},
   "outputs": [
    {
     "data": {
      "image/png": "[encoded data removed]",
      "text/plain": [
       "<Figure size 1440x360 with 1 Axes>"
      ]
     },
     "metadata": {},
     "output_type": "display_data"
    }
   ],
   "source": [
    "plot3 = crashlocation.toPandas()\n",
    "plt.figure(figsize = (20,5))\n",
    "x = plot3['crashLocation1'][0:10]\n",
    "y = plot3['count'][0:10]\n",
    "plt.bar(x,y)\n",
    "plt.show()"
   ]
  },
  {
   "cell_type": "code",
   "execution_count": 37,
   "metadata": {},
   "outputs": [
    {
     "name": "stdout",
     "output_type": "stream",
     "text": [
      "+-------------+------+\n",
      "|     weatherA| count|\n",
      "+-------------+------+\n",
      "|   Light rain| 40783|\n",
      "|   Heavy rain|  9865|\n",
      "|Hail or Sleet|     1|\n",
      "|         Fine|194607|\n",
      "|         Snow|    34|\n",
      "|  Mist or Fog|  1935|\n",
      "|         Null|  5001|\n",
      "+-------------+------+\n",
      "\n"
     ]
    }
   ],
   "source": [
    "weather = auckland.groupBy('weatherA').count()\n",
    "weather.show()"
   ]
  },
  {
   "cell_type": "code",
   "execution_count": 38,
   "metadata": {},
   "outputs": [
    {
     "data": {
      "image/png": "[encoded data removed]",
      "text/plain": [
       "<Figure size 720x360 with 1 Axes>"
      ]
     },
     "metadata": {},
     "output_type": "display_data"
    }
   ],
   "source": [
    "plot4 = weather.toPandas()\n",
    "x = plot4['weatherA']\n",
    "y = plot4['count']\n",
    "plt.figure(figsize = (10,5))\n",
    "plt.bar(x,y)\n",
    "plt.show()"
   ]
  },
  {
   "cell_type": "code",
   "execution_count": 39,
   "metadata": {},
   "outputs": [
    {
     "data": {
      "text/plain": [
       "9183"
      ]
     },
     "execution_count": 39,
     "metadata": {},
     "output_type": "execute_result"
    }
   ],
   "source": [
    "del plot1\n",
    "del plot2\n",
    "del plot3\n",
    "del plot4\n",
    "gc.collect()"
   ]
  },
  {
   "cell_type": "code",
   "execution_count": 40,
   "metadata": {},
   "outputs": [
    {
     "name": "stdout",
     "output_type": "stream",
     "text": [
      "+-----------+----------------+------+\n",
      "|   weatherA|   crashSeverity| count|\n",
      "+-----------+----------------+------+\n",
      "|       Fine|Non-Injury Crash|147464|\n",
      "|       Fine|     Minor Crash| 39295|\n",
      "| Light rain|Non-Injury Crash| 31136|\n",
      "| Light rain|     Minor Crash|  8223|\n",
      "| Heavy rain|Non-Injury Crash|  7465|\n",
      "|       Fine|   Serious Crash|  6973|\n",
      "|       Null|Non-Injury Crash|  4593|\n",
      "| Heavy rain|     Minor Crash|  2010|\n",
      "|Mist or Fog|Non-Injury Crash|  1414|\n",
      "| Light rain|   Serious Crash|  1289|\n",
      "|       Fine|     Fatal Crash|   875|\n",
      "|Mist or Fog|     Minor Crash|   420|\n",
      "| Heavy rain|   Serious Crash|   339|\n",
      "|       Null|     Minor Crash|   336|\n",
      "| Light rain|     Fatal Crash|   135|\n",
      "|Mist or Fog|   Serious Crash|    85|\n",
      "|       Null|   Serious Crash|    69|\n",
      "| Heavy rain|     Fatal Crash|    51|\n",
      "|       Snow|Non-Injury Crash|    20|\n",
      "|Mist or Fog|     Fatal Crash|    16|\n",
      "+-----------+----------------+------+\n",
      "only showing top 20 rows\n",
      "\n"
     ]
    }
   ],
   "source": [
    "weather_severity = auckland.groupBy('weatherA', 'crashSeverity').count().orderBy('count', ascending=False)\n",
    "weather_severity.show()"
   ]
  },
  {
   "cell_type": "code",
   "execution_count": 41,
   "metadata": {},
   "outputs": [
    {
     "name": "stdout",
     "output_type": "stream",
     "text": [
      "+-------------+------+\n",
      "|     weatherA| count|\n",
      "+-------------+------+\n",
      "|   Light rain| 40783|\n",
      "|   Heavy rain|  9865|\n",
      "|Hail or Sleet|     1|\n",
      "|         Fine|194607|\n",
      "|         Snow|    34|\n",
      "|  Mist or Fog|  1935|\n",
      "|         Null|  5001|\n",
      "+-------------+------+\n",
      "\n"
     ]
    }
   ],
   "source": [
    "auckland.groupBy('weatherA').count().show()"
   ]
  },
  {
   "cell_type": "code",
   "execution_count": 40,
   "metadata": {},
   "outputs": [
    {
     "data": {
      "text/plain": [
       "['\\ufeffX',\n",
       " 'Y',\n",
       " 'OBJECTID',\n",
       " 'advisorySpeed',\n",
       " 'animals',\n",
       " 'areaUnitID',\n",
       " 'bicycle',\n",
       " 'bridge',\n",
       " 'bus',\n",
       " 'carStationWagon',\n",
       " 'cliffBank',\n",
       " 'crashDirectionDescription',\n",
       " 'crashDistance',\n",
       " 'crashFinancialYear',\n",
       " 'crashLocation1',\n",
       " 'crashLocation2',\n",
       " 'crashSeverity',\n",
       " 'crashSHDescription',\n",
       " 'crashYear',\n",
       " 'debris',\n",
       " 'directionRoleDescription',\n",
       " 'ditch',\n",
       " 'easting',\n",
       " 'fatalCount',\n",
       " 'fence',\n",
       " 'flatHill',\n",
       " 'guardRail',\n",
       " 'holiday',\n",
       " 'houseOrBuilding',\n",
       " 'intersectionMidblock',\n",
       " 'junctionType',\n",
       " 'kerb',\n",
       " 'light',\n",
       " 'meshblockId',\n",
       " 'minorInjuryCount',\n",
       " 'moped',\n",
       " 'motorcycle',\n",
       " 'northing',\n",
       " 'NumberOfLanes',\n",
       " 'objectThrownOrDropped',\n",
       " 'otherObject',\n",
       " 'otherVehicleType',\n",
       " 'outdatedLocationDescription',\n",
       " 'overBank',\n",
       " 'parkedVehicle',\n",
       " 'pedestrian',\n",
       " 'phoneBoxEtc',\n",
       " 'postOrPole',\n",
       " 'region',\n",
       " 'roadCharacter',\n",
       " 'roadCurvature',\n",
       " 'roadLane',\n",
       " 'roadMarkings',\n",
       " 'roadSurface',\n",
       " 'roadworks',\n",
       " 'schoolBus',\n",
       " 'seriousInjuryCount',\n",
       " 'slipOrFlood',\n",
       " 'speedLimit',\n",
       " 'strayAnimal',\n",
       " 'streetLight',\n",
       " 'suv',\n",
       " 'taxi',\n",
       " 'temporarySpeedLimit',\n",
       " 'tlaId',\n",
       " 'tlaName',\n",
       " 'trafficControl',\n",
       " 'trafficIsland',\n",
       " 'trafficSign',\n",
       " 'train',\n",
       " 'tree',\n",
       " 'truck',\n",
       " 'unknownVehicleType',\n",
       " 'urban',\n",
       " 'vanOrUtility',\n",
       " 'vehicle',\n",
       " 'waterRiver',\n",
       " 'weatherA',\n",
       " 'weatherB']"
      ]
     },
     "execution_count": 40,
     "metadata": {},
     "output_type": "execute_result"
    }
   ],
   "source": [
    "auckland.columns"
   ]
  },
  {
   "cell_type": "code",
   "execution_count": 25,
   "metadata": {},
   "outputs": [],
   "source": [
    "colnames = auckland.columns"
   ]
  },
  {
   "cell_type": "code",
   "execution_count": 26,
   "metadata": {},
   "outputs": [],
   "source": [
    "num_rows = auckland.count()\n",
    "num_rows\n",
    "from pyspark.sql.functions import isnan, when, count, col"
   ]
  },
  {
   "cell_type": "code",
   "execution_count": 27,
   "metadata": {},
   "outputs": [
    {
     "data": {
      "text/plain": [
       "['\\ufeffX',\n",
       " 'Y',\n",
       " 'OBJECTID',\n",
       " 'areaUnitID',\n",
       " 'bicycle',\n",
       " 'bus',\n",
       " 'carStationWagon',\n",
       " 'crashDirectionDescription',\n",
       " 'crashDistance',\n",
       " 'crashFinancialYear',\n",
       " 'crashLocation1',\n",
       " 'crashLocation2',\n",
       " 'crashSeverity',\n",
       " 'crashSHDescription',\n",
       " 'crashYear',\n",
       " 'directionRoleDescription',\n",
       " 'easting',\n",
       " 'fatalCount',\n",
       " 'flatHill',\n",
       " 'intersectionMidblock',\n",
       " 'junctionType',\n",
       " 'light',\n",
       " 'meshblockId',\n",
       " 'minorInjuryCount',\n",
       " 'moped',\n",
       " 'motorcycle',\n",
       " 'northing',\n",
       " 'NumberOfLanes',\n",
       " 'otherVehicleType',\n",
       " 'outdatedLocationDescription',\n",
       " 'region',\n",
       " 'roadCharacter',\n",
       " 'roadCurvature',\n",
       " 'roadLane',\n",
       " 'roadSurface',\n",
       " 'schoolBus',\n",
       " 'seriousInjuryCount',\n",
       " 'speedLimit',\n",
       " 'streetLight',\n",
       " 'suv',\n",
       " 'taxi',\n",
       " 'tlaId',\n",
       " 'tlaName',\n",
       " 'trafficControl',\n",
       " 'truck',\n",
       " 'unknownVehicleType',\n",
       " 'urban',\n",
       " 'vanOrUtility',\n",
       " 'weatherA']"
      ]
     },
     "execution_count": 27,
     "metadata": {},
     "output_type": "execute_result"
    }
   ],
   "source": [
    "saved_col = []\n",
    "for i in range(0, len(colnames)-1):\n",
    "    col_name = colnames[i]\n",
    "    num_space = auckland.select([count(when(isnan(col_name) | col(col_name).isNull(),True))]).first()[0]\n",
    "    proportation = num_space/num_rows\n",
    "    if proportation <= 0.5:\n",
    "        saved_col.append(col_name)\n",
    "saved_col"
   ]
  },
  {
   "cell_type": "code",
   "execution_count": 28,
   "metadata": {},
   "outputs": [
    {
     "data": {
      "text/plain": [
       "(252226, 49)"
      ]
     },
     "execution_count": 28,
     "metadata": {},
     "output_type": "execute_result"
    }
   ],
   "source": [
    "df_1 = auckland.select(saved_col)\n",
    "df_1.count(),len(df_1.columns)"
   ]
  },
  {
   "cell_type": "code",
   "execution_count": 29,
   "metadata": {},
   "outputs": [
    {
     "data": {
      "text/plain": [
       "45"
      ]
     },
     "execution_count": 29,
     "metadata": {},
     "output_type": "execute_result"
    }
   ],
   "source": [
    "columns_to_drop = ['easting','northing','tlaId','tlaName']\n",
    "df_1 = df_1.drop(*columns_to_drop)\n",
    "len(df_1.columns)"
   ]
  },
  {
   "cell_type": "code",
   "execution_count": 30,
   "metadata": {},
   "outputs": [
    {
     "data": {
      "text/plain": [
       "42"
      ]
     },
     "execution_count": 30,
     "metadata": {},
     "output_type": "execute_result"
    }
   ],
   "source": [
    "columns_to_drop = ['OBJECTID','crashDirectionDescription','crashDistance']\n",
    "df_1 = df_1.drop(*columns_to_drop)\n",
    "len(df_1.columns)"
   ]
  },
  {
   "cell_type": "code",
   "execution_count": 49,
   "metadata": {},
   "outputs": [
    {
     "name": "stdout",
     "output_type": "stream",
     "text": [
      "+-------+--------------------+\n",
      "|summary|                 bus|\n",
      "+-------+--------------------+\n",
      "|  count|              252226|\n",
      "|   mean|0.020997042335048725|\n",
      "| stddev|  1.0050852950113083|\n",
      "|    min|                   0|\n",
      "|    max|                 500|\n",
      "+-------+--------------------+\n",
      "\n"
     ]
    }
   ],
   "source": [
    "busdf = df_1.select('bus')\n",
    "busdf.describe().show()"
   ]
  },
  {
   "cell_type": "code",
   "execution_count": 50,
   "metadata": {},
   "outputs": [],
   "source": [
    "df_1.count()\n",
    "del busdf"
   ]
  },
  {
   "cell_type": "code",
   "execution_count": 31,
   "metadata": {},
   "outputs": [
    {
     "data": {
      "text/plain": [
       "252225"
      ]
     },
     "execution_count": 31,
     "metadata": {},
     "output_type": "execute_result"
    }
   ],
   "source": [
    "df_1 = df_1.filter(df_1.bus <= 3) \n",
    "df_1.count()"
   ]
  },
  {
   "cell_type": "code",
   "execution_count": 31,
   "metadata": {},
   "outputs": [
    {
     "name": "stdout",
     "output_type": "stream",
     "text": [
      "+-------+-------------------+\n",
      "|summary|       vanOrUtility|\n",
      "+-------+-------------------+\n",
      "|  count|             252226|\n",
      "|   mean|0.14921142150293784|\n",
      "| stddev| 0.3933505600673658|\n",
      "|    min|                  0|\n",
      "|    max|                 50|\n",
      "+-------+-------------------+\n",
      "\n"
     ]
    }
   ],
   "source": [
    "van = df_1.select('vanOrUtility')\n",
    "van.describe().show()"
   ]
  },
  {
   "cell_type": "code",
   "execution_count": 32,
   "metadata": {},
   "outputs": [
    {
     "name": "stdout",
     "output_type": "stream",
     "text": [
      "252225\n"
     ]
    },
    {
     "data": {
      "text/plain": [
       "148"
      ]
     },
     "execution_count": 32,
     "metadata": {},
     "output_type": "execute_result"
    }
   ],
   "source": [
    "df_1 = df_1.filter(df_1.vanOrUtility <= 5)\n",
    "print(df_1.count())\n",
    "del van\n",
    "gc.collect()"
   ]
  },
  {
   "cell_type": "code",
   "execution_count": 33,
   "metadata": {},
   "outputs": [],
   "source": [
    "df_1 = df_1.na.drop()"
   ]
  },
  {
   "cell_type": "code",
   "execution_count": 34,
   "metadata": {},
   "outputs": [
    {
     "data": {
      "text/plain": [
       "251514"
      ]
     },
     "execution_count": 34,
     "metadata": {},
     "output_type": "execute_result"
    }
   ],
   "source": [
    "df_1.count()"
   ]
  },
  {
   "cell_type": "code",
   "execution_count": 35,
   "metadata": {},
   "outputs": [
    {
     "data": {
      "text/plain": [
       "201512"
      ]
     },
     "execution_count": 35,
     "metadata": {},
     "output_type": "execute_result"
    }
   ],
   "source": [
    "df_1 = df_1.filter(df_1.weatherA != 'Null')\n",
    "df_1 = df_1.filter(df_1.streetLight != 'Null')\n",
    "df_1.count()"
   ]
  },
  {
   "cell_type": "code",
   "execution_count": 57,
   "metadata": {},
   "outputs": [
    {
     "data": {
      "text/plain": [
       "110857"
      ]
     },
     "execution_count": 57,
     "metadata": {},
     "output_type": "execute_result"
    }
   ],
   "source": [
    "nil_rows1 = df_1.filter(df_1.trafficControl == \"Nil\").count()\n",
    "nil_rows1"
   ]
  },
  {
   "cell_type": "code",
   "execution_count": 58,
   "metadata": {},
   "outputs": [
    {
     "data": {
      "text/plain": [
       "191412"
      ]
     },
     "execution_count": 58,
     "metadata": {},
     "output_type": "execute_result"
    }
   ],
   "source": [
    "nil_rows2 = df_1.filter(df_1.roadCharacter == \"Nil\").count()\n",
    "nil_rows2"
   ]
  },
  {
   "cell_type": "code",
   "execution_count": 59,
   "metadata": {},
   "outputs": [
    {
     "data": {
      "text/plain": [
       "(0.5501260470840447, 0.9498789153995791)"
      ]
     },
     "execution_count": 59,
     "metadata": {},
     "output_type": "execute_result"
    }
   ],
   "source": [
    "nil_rows1/df_1.count(), nil_rows2/df_1.count()"
   ]
  },
  {
   "cell_type": "code",
   "execution_count": 36,
   "metadata": {},
   "outputs": [
    {
     "data": {
      "text/plain": [
       "40"
      ]
     },
     "execution_count": 36,
     "metadata": {},
     "output_type": "execute_result"
    }
   ],
   "source": [
    "columns_to_drop = ['trafficControl', 'roadCharacter']\n",
    "df_1 = df_1.drop(*columns_to_drop)\n",
    "len(df_1.columns)"
   ]
  },
  {
   "cell_type": "code",
   "execution_count": 61,
   "metadata": {},
   "outputs": [
    {
     "name": "stdout",
     "output_type": "stream",
     "text": [
      "root\n",
      " |-- ﻿X: string (nullable = true)\n",
      " |-- Y: string (nullable = true)\n",
      " |-- areaUnitID: string (nullable = true)\n",
      " |-- bicycle: string (nullable = true)\n",
      " |-- bus: string (nullable = true)\n",
      " |-- carStationWagon: string (nullable = true)\n",
      " |-- crashFinancialYear: string (nullable = true)\n",
      " |-- crashLocation1: string (nullable = true)\n",
      " |-- crashLocation2: string (nullable = true)\n",
      " |-- crashSeverity: string (nullable = true)\n",
      " |-- crashSHDescription: string (nullable = true)\n",
      " |-- crashYear: string (nullable = true)\n",
      " |-- directionRoleDescription: string (nullable = true)\n",
      " |-- fatalCount: string (nullable = true)\n",
      " |-- flatHill: string (nullable = true)\n",
      " |-- intersectionMidblock: string (nullable = true)\n",
      " |-- junctionType: string (nullable = true)\n",
      " |-- light: string (nullable = true)\n",
      " |-- meshblockId: string (nullable = true)\n",
      " |-- minorInjuryCount: string (nullable = true)\n",
      " |-- moped: string (nullable = true)\n",
      " |-- motorcycle: string (nullable = true)\n",
      " |-- NumberOfLanes: string (nullable = true)\n",
      " |-- otherVehicleType: string (nullable = true)\n",
      " |-- outdatedLocationDescription: string (nullable = true)\n",
      " |-- region: string (nullable = true)\n",
      " |-- roadCurvature: string (nullable = true)\n",
      " |-- roadLane: string (nullable = true)\n",
      " |-- roadSurface: string (nullable = true)\n",
      " |-- schoolBus: string (nullable = true)\n",
      " |-- seriousInjuryCount: string (nullable = true)\n",
      " |-- speedLimit: string (nullable = true)\n",
      " |-- streetLight: string (nullable = true)\n",
      " |-- suv: string (nullable = true)\n",
      " |-- taxi: string (nullable = true)\n",
      " |-- truck: string (nullable = true)\n",
      " |-- unknownVehicleType: string (nullable = true)\n",
      " |-- urban: string (nullable = true)\n",
      " |-- vanOrUtility: string (nullable = true)\n",
      " |-- weatherA: string (nullable = true)\n",
      "\n"
     ]
    }
   ],
   "source": [
    "df_1.printSchema()"
   ]
  },
  {
   "cell_type": "code",
   "execution_count": 37,
   "metadata": {},
   "outputs": [],
   "source": [
    "from pyspark.ml.linalg import Vectors\n",
    "from pyspark.ml.feature import VectorAssembler"
   ]
  },
  {
   "cell_type": "code",
   "execution_count": 38,
   "metadata": {},
   "outputs": [
    {
     "data": {
      "text/plain": [
       "39"
      ]
     },
     "execution_count": 38,
     "metadata": {},
     "output_type": "execute_result"
    }
   ],
   "source": [
    "df_1 = df_1.drop('region')\n",
    "len(df_1.columns)"
   ]
  },
  {
   "cell_type": "code",
   "execution_count": 39,
   "metadata": {},
   "outputs": [
    {
     "data": {
      "text/plain": [
       "37"
      ]
     },
     "execution_count": 39,
     "metadata": {},
     "output_type": "execute_result"
    }
   ],
   "source": [
    "cols = ['\\ufeffX','Y']\n",
    "df_1 = df_1.drop(*cols)\n",
    "len(df_1.columns)"
   ]
  },
  {
   "cell_type": "code",
   "execution_count": 65,
   "metadata": {},
   "outputs": [
    {
     "data": {
      "text/plain": [
       "['areaUnitID',\n",
       " 'bicycle',\n",
       " 'bus',\n",
       " 'carStationWagon',\n",
       " 'crashFinancialYear',\n",
       " 'crashLocation1',\n",
       " 'crashLocation2',\n",
       " 'crashSeverity',\n",
       " 'crashSHDescription',\n",
       " 'crashYear',\n",
       " 'directionRoleDescription',\n",
       " 'fatalCount',\n",
       " 'flatHill',\n",
       " 'intersectionMidblock',\n",
       " 'junctionType',\n",
       " 'light',\n",
       " 'meshblockId',\n",
       " 'minorInjuryCount',\n",
       " 'moped',\n",
       " 'motorcycle',\n",
       " 'NumberOfLanes',\n",
       " 'otherVehicleType',\n",
       " 'outdatedLocationDescription',\n",
       " 'roadCurvature',\n",
       " 'roadLane',\n",
       " 'roadSurface',\n",
       " 'schoolBus',\n",
       " 'seriousInjuryCount',\n",
       " 'speedLimit',\n",
       " 'streetLight',\n",
       " 'suv',\n",
       " 'taxi',\n",
       " 'truck',\n",
       " 'unknownVehicleType',\n",
       " 'urban',\n",
       " 'vanOrUtility',\n",
       " 'weatherA']"
      ]
     },
     "execution_count": 65,
     "metadata": {},
     "output_type": "execute_result"
    }
   ],
   "source": [
    "df_1.columns"
   ]
  },
  {
   "cell_type": "code",
   "execution_count": 40,
   "metadata": {},
   "outputs": [],
   "source": [
    "df_2 = df_1.select(df_1.areaUnitID.cast(\"float\"),\n",
    "                   df_1.bicycle.cast(\"float\"),\n",
    "                   df_1.carStationWagon.cast(\"float\"),\n",
    "                   df_1.crashFinancialYear.cast('float'),\n",
    "                   df_1.crashLocation1,\n",
    "                   df_1.crashLocation2,\n",
    "                   df_1.crashSeverity,\n",
    "                   df_1.crashSHDescription,\n",
    "                   df_1.crashYear.cast(\"float\"),\n",
    "                   df_1.directionRoleDescription,\n",
    "                   df_1.fatalCount.cast(\"float\"),\n",
    "                   df_1.flatHill,\n",
    "                   df_1.intersectionMidblock,\n",
    "                   df_1.junctionType,\n",
    "                   df_1.light,\n",
    "                   df_1.meshblockId.cast(\"float\"),\n",
    "                   df_1.minorInjuryCount.cast(\"float\"),\n",
    "                   df_1.moped.cast(\"float\"),\n",
    "                   df_1.motorcycle.cast(\"float\"),\n",
    "                   df_1.NumberOfLanes.cast(\"float\"),\n",
    "                   df_1.otherVehicleType.cast(\"float\"),\n",
    "                   df_1.outdatedLocationDescription,\n",
    "                   df_1.roadCurvature,\n",
    "                   df_1.roadLane,\n",
    "                   df_1.roadSurface,\n",
    "                   df_1.schoolBus.cast(\"float\"),\n",
    "                   df_1.seriousInjuryCount.cast(\"float\"),\n",
    "                   df_1.speedLimit.cast(\"float\"),\n",
    "                   df_1.streetLight,\n",
    "                   df_1.suv.cast(\"float\"),\n",
    "                   df_1.taxi.cast(\"float\"),\n",
    "                   df_1.truck.cast(\"float\"),\n",
    "                   df_1.unknownVehicleType.cast(\"float\"),\n",
    "                   df_1.urban,\n",
    "                   df_1.vanOrUtility.cast(\"float\"),\n",
    "                   df_1.weatherA)\n",
    "                   \n",
    "                   \n",
    "                   "
   ]
  },
  {
   "cell_type": "code",
   "execution_count": 67,
   "metadata": {},
   "outputs": [
    {
     "name": "stdout",
     "output_type": "stream",
     "text": [
      "root\n",
      " |-- areaUnitID: float (nullable = true)\n",
      " |-- bicycle: float (nullable = true)\n",
      " |-- carStationWagon: float (nullable = true)\n",
      " |-- crashFinancialYear: float (nullable = true)\n",
      " |-- crashLocation1: string (nullable = true)\n",
      " |-- crashLocation2: string (nullable = true)\n",
      " |-- crashSeverity: string (nullable = true)\n",
      " |-- crashSHDescription: string (nullable = true)\n",
      " |-- crashYear: float (nullable = true)\n",
      " |-- directionRoleDescription: string (nullable = true)\n",
      " |-- fatalCount: float (nullable = true)\n",
      " |-- flatHill: string (nullable = true)\n",
      " |-- intersectionMidblock: string (nullable = true)\n",
      " |-- junctionType: string (nullable = true)\n",
      " |-- light: string (nullable = true)\n",
      " |-- meshblockId: float (nullable = true)\n",
      " |-- minorInjuryCount: float (nullable = true)\n",
      " |-- moped: float (nullable = true)\n",
      " |-- motorcycle: float (nullable = true)\n",
      " |-- NumberOfLanes: float (nullable = true)\n",
      " |-- otherVehicleType: float (nullable = true)\n",
      " |-- outdatedLocationDescription: string (nullable = true)\n",
      " |-- roadCurvature: string (nullable = true)\n",
      " |-- roadLane: string (nullable = true)\n",
      " |-- roadSurface: string (nullable = true)\n",
      " |-- schoolBus: float (nullable = true)\n",
      " |-- seriousInjuryCount: float (nullable = true)\n",
      " |-- speedLimit: float (nullable = true)\n",
      " |-- streetLight: string (nullable = true)\n",
      " |-- suv: float (nullable = true)\n",
      " |-- taxi: float (nullable = true)\n",
      " |-- truck: float (nullable = true)\n",
      " |-- unknownVehicleType: float (nullable = true)\n",
      " |-- urban: string (nullable = true)\n",
      " |-- vanOrUtility: float (nullable = true)\n",
      " |-- weatherA: string (nullable = true)\n",
      "\n"
     ]
    }
   ],
   "source": [
    "df_2.printSchema()"
   ]
  },
  {
   "cell_type": "code",
   "execution_count": 41,
   "metadata": {},
   "outputs": [],
   "source": [
    "alchol_df = spark.read.load(\"grog.csv\", format = \"csv\", header = \"true\")"
   ]
  },
  {
   "cell_type": "code",
   "execution_count": 69,
   "metadata": {},
   "outputs": [
    {
     "name": "stdout",
     "output_type": "stream",
     "text": [
      "+---+----------------+----------------+----------------+----------+----+\n",
      "|_c0|            Beer|            Wine|          Spirit|   Country|Year|\n",
      "+---+----------------+----------------+----------------+----------+----+\n",
      "|  1|            5.24|            2.86|            1.81| Australia|1998|\n",
      "|  2|            5.15|            2.87|            1.77| Australia|1999|\n",
      "|  3|            5.06|            2.94|            1.88| Australia|2000|\n",
      "|  4|            5.07|            2.95|            2.07| Australia|2001|\n",
      "|  5|             4.8|            2.91|            1.81| Australia|2002|\n",
      "|  6|            4.97|            3.01|            1.86| Australia|2003|\n",
      "|  7|            4.68|            3.07|            2.06| Australia|2004|\n",
      "|  8|            4.58|            3.13|            2.12| Australia|2005|\n",
      "|  9|            4.57|            3.11|            2.15| Australia|2006|\n",
      "| 10|4.49995484047518|2.59259649909302| 1.7714486604318|NewZealand|1998|\n",
      "| 11|4.28379433107245|2.65169387971947|1.64051178920809|NewZealand|1999|\n",
      "| 12|4.38780862118929|2.74667996149141|1.80251141731929|NewZealand|2000|\n",
      "| 13|4.25076364384841|2.62968684202698|2.04354951412461|NewZealand|2001|\n",
      "| 14|4.23134594904052|2.77336529499246|1.88528875596702|NewZealand|2002|\n",
      "| 15|4.21786562098825|2.87833204197447|2.04480233703727|NewZealand|2003|\n",
      "| 16| 4.1996066148245|2.87904802569341|2.00834535948209|NewZealand|2004|\n",
      "| 17| 4.1623257976577|2.99934081900903|2.22233338333326|NewZealand|2005|\n",
      "| 18| 3.9594093294588|3.08942254209033|2.20116812845087|NewZealand|2006|\n",
      "+---+----------------+----------------+----------------+----------+----+\n",
      "\n"
     ]
    }
   ],
   "source": [
    "alchol_df.show()"
   ]
  },
  {
   "cell_type": "code",
   "execution_count": 70,
   "metadata": {},
   "outputs": [
    {
     "name": "stdout",
     "output_type": "stream",
     "text": [
      "root\n",
      " |-- _c0: string (nullable = true)\n",
      " |-- Beer: string (nullable = true)\n",
      " |-- Wine: string (nullable = true)\n",
      " |-- Spirit: string (nullable = true)\n",
      " |-- Country: string (nullable = true)\n",
      " |-- Year: string (nullable = true)\n",
      "\n"
     ]
    }
   ],
   "source": [
    "alchol_df.printSchema()"
   ]
  },
  {
   "cell_type": "code",
   "execution_count": 42,
   "metadata": {},
   "outputs": [
    {
     "name": "stdout",
     "output_type": "stream",
     "text": [
      "+---+----------------+----------------+----------------+----------+----+\n",
      "|_c0|            Beer|            Wine|          Spirit|   Country|Year|\n",
      "+---+----------------+----------------+----------------+----------+----+\n",
      "| 10|4.49995484047518|2.59259649909302| 1.7714486604318|NewZealand|1998|\n",
      "| 11|4.28379433107245|2.65169387971947|1.64051178920809|NewZealand|1999|\n",
      "| 12|4.38780862118929|2.74667996149141|1.80251141731929|NewZealand|2000|\n",
      "| 13|4.25076364384841|2.62968684202698|2.04354951412461|NewZealand|2001|\n",
      "| 14|4.23134594904052|2.77336529499246|1.88528875596702|NewZealand|2002|\n",
      "| 15|4.21786562098825|2.87833204197447|2.04480233703727|NewZealand|2003|\n",
      "| 16| 4.1996066148245|2.87904802569341|2.00834535948209|NewZealand|2004|\n",
      "| 17| 4.1623257976577|2.99934081900903|2.22233338333326|NewZealand|2005|\n",
      "| 18| 3.9594093294588|3.08942254209033|2.20116812845087|NewZealand|2006|\n",
      "+---+----------------+----------------+----------------+----------+----+\n",
      "\n",
      "root\n",
      " |-- _c0: string (nullable = true)\n",
      " |-- Beer: string (nullable = true)\n",
      " |-- Wine: string (nullable = true)\n",
      " |-- Spirit: string (nullable = true)\n",
      " |-- Country: string (nullable = true)\n",
      " |-- Year: string (nullable = true)\n",
      "\n"
     ]
    }
   ],
   "source": [
    "nz_sum = alchol_df.filter(alchol_df.Country == 'NewZealand')\n",
    "nz_sum.show()\n",
    "nz_sum.printSchema()"
   ]
  },
  {
   "cell_type": "code",
   "execution_count": 43,
   "metadata": {},
   "outputs": [
    {
     "name": "stdout",
     "output_type": "stream",
     "text": [
      "root\n",
      " |-- Beer: float (nullable = true)\n",
      " |-- Wine: float (nullable = true)\n",
      " |-- Spirit: float (nullable = true)\n",
      " |-- Country: string (nullable = true)\n",
      " |-- Year: float (nullable = true)\n",
      "\n"
     ]
    }
   ],
   "source": [
    "nz_alchol = nz_sum.select(nz_sum.Beer.cast(\"float\"),\n",
    "                          nz_sum.Wine.cast(\"float\"),\n",
    "                          nz_sum.Spirit.cast(\"float\"),\n",
    "                          nz_sum.Country,\n",
    "                          nz_sum.Year.cast(\"float\"))\n",
    "nz_alchol.printSchema()"
   ]
  },
  {
   "cell_type": "code",
   "execution_count": 44,
   "metadata": {},
   "outputs": [],
   "source": [
    "nz_alchol = nz_alchol.withColumn('sum', nz_alchol.Beer + nz_alchol.Wine + nz_alchol.Spirit)\n"
   ]
  },
  {
   "cell_type": "code",
   "execution_count": 45,
   "metadata": {},
   "outputs": [
    {
     "name": "stdout",
     "output_type": "stream",
     "text": [
      "+------+--------+\n",
      "|  Year|     sum|\n",
      "+------+--------+\n",
      "|1998.0|   8.864|\n",
      "|1999.0|   8.576|\n",
      "|2000.0|   8.937|\n",
      "|2001.0|   8.924|\n",
      "|2002.0|8.889999|\n",
      "|2003.0|   9.141|\n",
      "|2004.0|   9.087|\n",
      "|2005.0|9.384001|\n",
      "|2006.0|    9.25|\n",
      "+------+--------+\n",
      "\n"
     ]
    }
   ],
   "source": [
    "nz = nz_alchol.select(nz_alchol.Year, nz_alchol.sum)\n",
    "nz.show()"
   ]
  },
  {
   "cell_type": "code",
   "execution_count": 46,
   "metadata": {},
   "outputs": [
    {
     "data": {
      "text/plain": [
       "90391"
      ]
     },
     "execution_count": 46,
     "metadata": {},
     "output_type": "execute_result"
    }
   ],
   "source": [
    "df_3 = df_2.filter((df_2.crashYear <= 2006) & (df_2.crashYear >= 2000))\n",
    "df_3.count()"
   ]
  },
  {
   "cell_type": "code",
   "execution_count": 47,
   "metadata": {},
   "outputs": [
    {
     "data": {
      "text/plain": [
       "(90391, 37)"
      ]
     },
     "execution_count": 47,
     "metadata": {},
     "output_type": "execute_result"
    }
   ],
   "source": [
    "overall = df_3.join(nz, df_3.crashYear == nz.Year, \"left\").drop('crashYear')\n",
    "overall.count(), len(overall.columns)"
   ]
  },
  {
   "cell_type": "code",
   "execution_count": 50,
   "metadata": {},
   "outputs": [
    {
     "data": {
      "text/plain": [
       "['areaUnitID',\n",
       " 'bicycle',\n",
       " 'carStationWagon',\n",
       " 'crashFinancialYear',\n",
       " 'crashLocation1',\n",
       " 'crashLocation2',\n",
       " 'crashSeverity',\n",
       " 'crashSHDescription',\n",
       " 'directionRoleDescription',\n",
       " 'fatalCount',\n",
       " 'flatHill',\n",
       " 'intersectionMidblock',\n",
       " 'junctionType',\n",
       " 'light',\n",
       " 'meshblockId',\n",
       " 'minorInjuryCount',\n",
       " 'moped',\n",
       " 'motorcycle',\n",
       " 'NumberOfLanes',\n",
       " 'otherVehicleType',\n",
       " 'outdatedLocationDescription',\n",
       " 'roadCurvature',\n",
       " 'roadLane',\n",
       " 'roadSurface',\n",
       " 'schoolBus',\n",
       " 'seriousInjuryCount',\n",
       " 'speedLimit',\n",
       " 'streetLight',\n",
       " 'suv',\n",
       " 'taxi',\n",
       " 'truck',\n",
       " 'unknownVehicleType',\n",
       " 'urban',\n",
       " 'vanOrUtility',\n",
       " 'weatherA',\n",
       " 'Year',\n",
       " 'sum']"
      ]
     },
     "execution_count": 50,
     "metadata": {},
     "output_type": "execute_result"
    }
   ],
   "source": [
    "overall.columns"
   ]
  },
  {
   "cell_type": "code",
   "execution_count": 48,
   "metadata": {},
   "outputs": [
    {
     "data": {
      "text/plain": [
       "373"
      ]
     },
     "execution_count": 48,
     "metadata": {},
     "output_type": "execute_result"
    }
   ],
   "source": [
    "del df_1\n",
    "del df_2\n",
    "del df_3\n",
    "del alchol_df\n",
    "del nz_sum\n",
    "del nz_alchol\n",
    "del nz\n",
    "del auckland\n",
    "gc.collect()"
   ]
  },
  {
   "cell_type": "code",
   "execution_count": 49,
   "metadata": {},
   "outputs": [
    {
     "data": {
      "text/plain": [
       "35"
      ]
     },
     "execution_count": 49,
     "metadata": {},
     "output_type": "execute_result"
    }
   ],
   "source": [
    "overall = overall.drop(*['crashLocation1','crashLocation2'])\n",
    "len(overall.columns)"
   ]
  },
  {
   "cell_type": "code",
   "execution_count": 50,
   "metadata": {},
   "outputs": [
    {
     "data": {
      "text/plain": [
       "34"
      ]
     },
     "execution_count": 50,
     "metadata": {},
     "output_type": "execute_result"
    }
   ],
   "source": [
    "overall = overall.drop('directionRoleDescription')\n",
    "len(overall.columns)"
   ]
  },
  {
   "cell_type": "code",
   "execution_count": 51,
   "metadata": {},
   "outputs": [
    {
     "data": {
      "text/plain": [
       "32"
      ]
     },
     "execution_count": 51,
     "metadata": {},
     "output_type": "execute_result"
    }
   ],
   "source": [
    "overall = overall.drop(*['meshblockId','outdatedLocationDescription'])\n",
    "len(overall.columns)"
   ]
  },
  {
   "cell_type": "code",
   "execution_count": 82,
   "metadata": {},
   "outputs": [
    {
     "name": "stdout",
     "output_type": "stream",
     "text": [
      "+-------------+----------------+-----+\n",
      "| junctionType|   crashSeverity|count|\n",
      "+-------------+----------------+-----+\n",
      "|Nil (Default)|Non-Injury Crash|30141|\n",
      "|   T Junction|Non-Injury Crash|18363|\n",
      "|   Crossroads|Non-Injury Crash| 7987|\n",
      "|Nil (Default)|     Minor Crash| 7333|\n",
      "|     Driveway|Non-Injury Crash| 6936|\n",
      "|   T Junction|     Minor Crash| 3997|\n",
      "|   Roundabout|Non-Injury Crash| 3568|\n",
      "|   Y Junction|Non-Injury Crash| 2279|\n",
      "|     Multileg|Non-Injury Crash| 1844|\n",
      "|   Crossroads|     Minor Crash| 1785|\n",
      "|Nil (Default)|   Serious Crash| 1558|\n",
      "|     Driveway|     Minor Crash| 1450|\n",
      "|   T Junction|   Serious Crash|  729|\n",
      "|   Y Junction|     Minor Crash|  470|\n",
      "|   Roundabout|     Minor Crash|  462|\n",
      "|Nil (Default)|     Fatal Crash|  332|\n",
      "|     Multileg|     Minor Crash|  320|\n",
      "|   Crossroads|   Serious Crash|  268|\n",
      "|     Driveway|   Serious Crash|  232|\n",
      "|   Y Junction|   Serious Crash|   88|\n",
      "+-------------+----------------+-----+\n",
      "only showing top 20 rows\n",
      "\n"
     ]
    }
   ],
   "source": [
    "overall.groupby('junctionType','crashSeverity').count().orderBy('count', ascending=False).show()"
   ]
  },
  {
   "cell_type": "code",
   "execution_count": 52,
   "metadata": {},
   "outputs": [
    {
     "data": {
      "text/plain": [
       "31"
      ]
     },
     "execution_count": 52,
     "metadata": {},
     "output_type": "execute_result"
    }
   ],
   "source": [
    "overall = overall.drop('junctionType')\n",
    "len(overall.columns)"
   ]
  },
  {
   "cell_type": "code",
   "execution_count": 84,
   "metadata": {},
   "outputs": [
    {
     "name": "stdout",
     "output_type": "stream",
     "text": [
      "+----------+----------------+-----+\n",
      "|     light|   crashSeverity|count|\n",
      "+----------+----------------+-----+\n",
      "|Bright sun|Non-Injury Crash|26588|\n",
      "|  Overcast|Non-Injury Crash|20884|\n",
      "|      Dark|Non-Injury Crash|19782|\n",
      "|Bright sun|     Minor Crash| 5776|\n",
      "|      Dark|     Minor Crash| 4638|\n",
      "|  Overcast|     Minor Crash| 4563|\n",
      "|  Twilight|Non-Injury Crash| 3824|\n",
      "|      Dark|   Serious Crash| 1112|\n",
      "|Bright sun|   Serious Crash| 1017|\n",
      "|  Twilight|     Minor Crash|  835|\n",
      "|  Overcast|   Serious Crash|  697|\n",
      "|      Dark|     Fatal Crash|  217|\n",
      "|  Twilight|   Serious Crash|  167|\n",
      "|Bright sun|     Fatal Crash|  127|\n",
      "|  Overcast|     Fatal Crash|   96|\n",
      "|   Unknown|Non-Injury Crash|   40|\n",
      "|  Twilight|     Fatal Crash|   22|\n",
      "|   Unknown|     Minor Crash|    5|\n",
      "|   Unknown|   Serious Crash|    1|\n",
      "+----------+----------------+-----+\n",
      "\n"
     ]
    }
   ],
   "source": [
    "overall.groupby('light','crashSeverity').count().orderBy('count', ascending=False).show()"
   ]
  },
  {
   "cell_type": "code",
   "execution_count": 53,
   "metadata": {},
   "outputs": [
    {
     "data": {
      "text/plain": [
       "30"
      ]
     },
     "execution_count": 53,
     "metadata": {},
     "output_type": "execute_result"
    }
   ],
   "source": [
    "overall = overall.drop('light')\n",
    "len(overall.columns)"
   ]
  },
  {
   "cell_type": "code",
   "execution_count": 86,
   "metadata": {},
   "outputs": [
    {
     "name": "stdout",
     "output_type": "stream",
     "text": [
      "+-------------+----------------+-----+\n",
      "|NumberOfLanes|   crashSeverity|count|\n",
      "+-------------+----------------+-----+\n",
      "|          2.0|Non-Injury Crash|39714|\n",
      "|          4.0|Non-Injury Crash|15161|\n",
      "|          2.0|     Minor Crash| 9421|\n",
      "|          3.0|Non-Injury Crash| 7538|\n",
      "|          4.0|     Minor Crash| 3012|\n",
      "|          5.0|Non-Injury Crash| 2369|\n",
      "|          6.0|Non-Injury Crash| 2291|\n",
      "|          1.0|Non-Injury Crash| 2089|\n",
      "|          2.0|   Serious Crash| 1997|\n",
      "|          3.0|     Minor Crash| 1724|\n",
      "|          0.0|Non-Injury Crash| 1571|\n",
      "|          5.0|     Minor Crash|  546|\n",
      "|          4.0|   Serious Crash|  491|\n",
      "|          6.0|     Minor Crash|  484|\n",
      "|          1.0|     Minor Crash|  446|\n",
      "|          2.0|     Fatal Crash|  349|\n",
      "|          8.0|Non-Injury Crash|  255|\n",
      "|          3.0|   Serious Crash|  232|\n",
      "|          7.0|Non-Injury Crash|  130|\n",
      "|          0.0|     Minor Crash|  117|\n",
      "+-------------+----------------+-----+\n",
      "only showing top 20 rows\n",
      "\n"
     ]
    }
   ],
   "source": [
    "overall.groupby('NumberOfLanes','crashSeverity').count().orderBy('count', ascending=False).show()"
   ]
  },
  {
   "cell_type": "code",
   "execution_count": 54,
   "metadata": {},
   "outputs": [
    {
     "data": {
      "text/plain": [
       "29"
      ]
     },
     "execution_count": 54,
     "metadata": {},
     "output_type": "execute_result"
    }
   ],
   "source": [
    "overall = overall.drop('NumberOfLanes')\n",
    "len(overall.columns)"
   ]
  },
  {
   "cell_type": "code",
   "execution_count": 88,
   "metadata": {},
   "outputs": [
    {
     "name": "stdout",
     "output_type": "stream",
     "text": [
      "+-----------+----------------+-----+\n",
      "|roadSurface|   crashSeverity|count|\n",
      "+-----------+----------------+-----+\n",
      "|     Sealed|Non-Injury Crash|70789|\n",
      "|     Sealed|     Minor Crash|15715|\n",
      "|     Sealed|   Serious Crash| 2951|\n",
      "|     Sealed|     Fatal Crash|  455|\n",
      "|   Unsealed|Non-Injury Crash|  329|\n",
      "|   Unsealed|     Minor Crash|  102|\n",
      "|   Unsealed|   Serious Crash|   43|\n",
      "|   Unsealed|     Fatal Crash|    7|\n",
      "+-----------+----------------+-----+\n",
      "\n"
     ]
    }
   ],
   "source": [
    "overall.groupby('roadSurface','crashSeverity').count().orderBy('count', ascending=False).show()"
   ]
  },
  {
   "cell_type": "code",
   "execution_count": 55,
   "metadata": {},
   "outputs": [
    {
     "data": {
      "text/plain": [
       "28"
      ]
     },
     "execution_count": 55,
     "metadata": {},
     "output_type": "execute_result"
    }
   ],
   "source": [
    "overall = overall.drop('roadSurface')\n",
    "len(overall.columns)"
   ]
  },
  {
   "cell_type": "code",
   "execution_count": 90,
   "metadata": {},
   "outputs": [
    {
     "name": "stdout",
     "output_type": "stream",
     "text": [
      "+---------+----------------+-----+\n",
      "|schoolBus|   crashSeverity|count|\n",
      "+---------+----------------+-----+\n",
      "|      0.0|Non-Injury Crash|71095|\n",
      "|      0.0|     Minor Crash|15807|\n",
      "|      0.0|   Serious Crash| 2990|\n",
      "|      0.0|     Fatal Crash|  462|\n",
      "|      1.0|Non-Injury Crash|   23|\n",
      "|      1.0|     Minor Crash|   10|\n",
      "|      1.0|   Serious Crash|    4|\n",
      "+---------+----------------+-----+\n",
      "\n"
     ]
    }
   ],
   "source": [
    "overall.groupby('schoolBus','crashSeverity').count().orderBy('count', ascending=False).show()"
   ]
  },
  {
   "cell_type": "code",
   "execution_count": 56,
   "metadata": {},
   "outputs": [
    {
     "data": {
      "text/plain": [
       "27"
      ]
     },
     "execution_count": 56,
     "metadata": {},
     "output_type": "execute_result"
    }
   ],
   "source": [
    "overall = overall.drop('schoolBus')\n",
    "len(overall.columns)"
   ]
  },
  {
   "cell_type": "code",
   "execution_count": 92,
   "metadata": {},
   "outputs": [
    {
     "name": "stdout",
     "output_type": "stream",
     "text": [
      "+----+----------------+-----+\n",
      "|taxi|   crashSeverity|count|\n",
      "+----+----------------+-----+\n",
      "| 0.0|Non-Injury Crash|69784|\n",
      "| 0.0|     Minor Crash|15533|\n",
      "| 0.0|   Serious Crash| 2948|\n",
      "| 1.0|Non-Injury Crash| 1295|\n",
      "| 0.0|     Fatal Crash|  455|\n",
      "| 1.0|     Minor Crash|  281|\n",
      "| 1.0|   Serious Crash|   43|\n",
      "| 2.0|Non-Injury Crash|   39|\n",
      "| 1.0|     Fatal Crash|    7|\n",
      "| 2.0|   Serious Crash|    3|\n",
      "| 2.0|     Minor Crash|    3|\n",
      "+----+----------------+-----+\n",
      "\n"
     ]
    }
   ],
   "source": [
    "overall.groupby('taxi','crashSeverity').count().orderBy('count', ascending=False).show()"
   ]
  },
  {
   "cell_type": "code",
   "execution_count": 57,
   "metadata": {},
   "outputs": [
    {
     "data": {
      "text/plain": [
       "26"
      ]
     },
     "execution_count": 57,
     "metadata": {},
     "output_type": "execute_result"
    }
   ],
   "source": [
    "overall = overall.drop('taxi')\n",
    "len(overall.columns)"
   ]
  },
  {
   "cell_type": "code",
   "execution_count": 58,
   "metadata": {},
   "outputs": [
    {
     "data": {
      "text/plain": [
       "180"
      ]
     },
     "execution_count": 58,
     "metadata": {},
     "output_type": "execute_result"
    }
   ],
   "source": [
    "gc.collect()"
   ]
  },
  {
   "cell_type": "code",
   "execution_count": 95,
   "metadata": {},
   "outputs": [
    {
     "name": "stdout",
     "output_type": "stream",
     "text": [
      "+-----+----------------+-----+\n",
      "|truck|   crashSeverity|count|\n",
      "+-----+----------------+-----+\n",
      "|  0.0|Non-Injury Crash|65317|\n",
      "|  0.0|     Minor Crash|14717|\n",
      "|  1.0|Non-Injury Crash| 5602|\n",
      "|  0.0|   Serious Crash| 2757|\n",
      "|  1.0|     Minor Crash| 1041|\n",
      "|  0.0|     Fatal Crash|  397|\n",
      "|  1.0|   Serious Crash|  222|\n",
      "|  2.0|Non-Injury Crash|  195|\n",
      "|  1.0|     Fatal Crash|   65|\n",
      "|  2.0|     Minor Crash|   53|\n",
      "|  2.0|   Serious Crash|   15|\n",
      "|  3.0|     Minor Crash|    5|\n",
      "|  3.0|Non-Injury Crash|    4|\n",
      "|  5.0|     Minor Crash|    1|\n",
      "+-----+----------------+-----+\n",
      "\n"
     ]
    }
   ],
   "source": [
    "overall.groupby('truck','crashSeverity').count().orderBy('count', ascending=False).show()"
   ]
  },
  {
   "cell_type": "code",
   "execution_count": 58,
   "metadata": {},
   "outputs": [
    {
     "data": {
      "text/plain": [
       "25"
      ]
     },
     "execution_count": 58,
     "metadata": {},
     "output_type": "execute_result"
    }
   ],
   "source": [
    "overall = overall.drop('truck')\n",
    "len(overall.columns)"
   ]
  },
  {
   "cell_type": "code",
   "execution_count": 97,
   "metadata": {},
   "outputs": [
    {
     "name": "stdout",
     "output_type": "stream",
     "text": [
      "+------------------+----------------+-----+\n",
      "|unknownVehicleType|   crashSeverity|count|\n",
      "+------------------+----------------+-----+\n",
      "|               0.0|Non-Injury Crash|71118|\n",
      "|               0.0|     Minor Crash|15817|\n",
      "|               0.0|   Serious Crash| 2994|\n",
      "|               0.0|     Fatal Crash|  462|\n",
      "+------------------+----------------+-----+\n",
      "\n"
     ]
    }
   ],
   "source": [
    "overall.groupby('unknownVehicleType','crashSeverity').count().orderBy('count', ascending=False).show()"
   ]
  },
  {
   "cell_type": "code",
   "execution_count": 59,
   "metadata": {},
   "outputs": [
    {
     "data": {
      "text/plain": [
       "24"
      ]
     },
     "execution_count": 59,
     "metadata": {},
     "output_type": "execute_result"
    }
   ],
   "source": [
    "overall = overall.drop('unknownVehicleType')\n",
    "len(overall.columns)"
   ]
  },
  {
   "cell_type": "code",
   "execution_count": 99,
   "metadata": {},
   "outputs": [
    {
     "name": "stdout",
     "output_type": "stream",
     "text": [
      "+------------+----------------+-----+\n",
      "|vanOrUtility|   crashSeverity|count|\n",
      "+------------+----------------+-----+\n",
      "|         0.0|Non-Injury Crash|60764|\n",
      "|         0.0|     Minor Crash|13468|\n",
      "|         1.0|Non-Injury Crash| 9714|\n",
      "|         0.0|   Serious Crash| 2571|\n",
      "|         1.0|     Minor Crash| 2208|\n",
      "|         2.0|Non-Injury Crash|  623|\n",
      "|         1.0|   Serious Crash|  404|\n",
      "|         0.0|     Fatal Crash|  374|\n",
      "|         2.0|     Minor Crash|  135|\n",
      "|         1.0|     Fatal Crash|   85|\n",
      "|         2.0|   Serious Crash|   18|\n",
      "|         3.0|Non-Injury Crash|   16|\n",
      "|         3.0|     Minor Crash|    5|\n",
      "|         2.0|     Fatal Crash|    3|\n",
      "|         4.0|Non-Injury Crash|    1|\n",
      "|         3.0|   Serious Crash|    1|\n",
      "|         4.0|     Minor Crash|    1|\n",
      "+------------+----------------+-----+\n",
      "\n"
     ]
    }
   ],
   "source": [
    "overall.groupby('vanOrUtility','crashSeverity').count().orderBy('count', ascending=False).show()"
   ]
  },
  {
   "cell_type": "code",
   "execution_count": 60,
   "metadata": {},
   "outputs": [
    {
     "data": {
      "text/plain": [
       "23"
      ]
     },
     "execution_count": 60,
     "metadata": {},
     "output_type": "execute_result"
    }
   ],
   "source": [
    "overall = overall.drop('vanOrUtility')\n",
    "len(overall.columns)"
   ]
  },
  {
   "cell_type": "code",
   "execution_count": 101,
   "metadata": {},
   "outputs": [
    {
     "name": "stdout",
     "output_type": "stream",
     "text": [
      "+-----------+----------------+-----+\n",
      "|   weatherA|   crashSeverity|count|\n",
      "+-----------+----------------+-----+\n",
      "|       Fine|Non-Injury Crash|54853|\n",
      "| Light rain|Non-Injury Crash|12550|\n",
      "|       Fine|     Minor Crash|12098|\n",
      "| Heavy rain|Non-Injury Crash| 3172|\n",
      "| Light rain|     Minor Crash| 2853|\n",
      "|       Fine|   Serious Crash| 2309|\n",
      "| Heavy rain|     Minor Crash|  729|\n",
      "|Mist or Fog|Non-Injury Crash|  542|\n",
      "| Light rain|   Serious Crash|  492|\n",
      "|       Fine|     Fatal Crash|  378|\n",
      "| Heavy rain|   Serious Crash|  158|\n",
      "|Mist or Fog|     Minor Crash|  131|\n",
      "| Light rain|     Fatal Crash|   65|\n",
      "|Mist or Fog|   Serious Crash|   34|\n",
      "| Heavy rain|     Fatal Crash|   16|\n",
      "|       Snow|     Minor Crash|    6|\n",
      "|Mist or Fog|     Fatal Crash|    3|\n",
      "|       Snow|   Serious Crash|    1|\n",
      "|       Snow|Non-Injury Crash|    1|\n",
      "+-----------+----------------+-----+\n",
      "\n"
     ]
    }
   ],
   "source": [
    "overall.groupby('weatherA','crashSeverity').count().orderBy('count', ascending=False).show()"
   ]
  },
  {
   "cell_type": "code",
   "execution_count": 61,
   "metadata": {},
   "outputs": [
    {
     "data": {
      "text/plain": [
       "22"
      ]
     },
     "execution_count": 61,
     "metadata": {},
     "output_type": "execute_result"
    }
   ],
   "source": [
    "overall = overall.drop('weatherA')\n",
    "len(overall.columns)"
   ]
  },
  {
   "cell_type": "code",
   "execution_count": 103,
   "metadata": {},
   "outputs": [
    {
     "data": {
      "text/plain": [
       "['areaUnitID',\n",
       " 'bicycle',\n",
       " 'carStationWagon',\n",
       " 'crashFinancialYear',\n",
       " 'crashSeverity',\n",
       " 'crashSHDescription',\n",
       " 'fatalCount',\n",
       " 'flatHill',\n",
       " 'intersectionMidblock',\n",
       " 'minorInjuryCount',\n",
       " 'moped',\n",
       " 'motorcycle',\n",
       " 'otherVehicleType',\n",
       " 'roadCurvature',\n",
       " 'roadLane',\n",
       " 'seriousInjuryCount',\n",
       " 'speedLimit',\n",
       " 'streetLight',\n",
       " 'suv',\n",
       " 'urban',\n",
       " 'Year',\n",
       " 'sum']"
      ]
     },
     "execution_count": 103,
     "metadata": {},
     "output_type": "execute_result"
    }
   ],
   "source": [
    "overall.columns"
   ]
  },
  {
   "cell_type": "code",
   "execution_count": 104,
   "metadata": {},
   "outputs": [
    {
     "data": {
      "text/plain": [
       "(90391, 22)"
      ]
     },
     "execution_count": 104,
     "metadata": {},
     "output_type": "execute_result"
    }
   ],
   "source": [
    "overall.count(), len(overall.columns)"
   ]
  },
  {
   "cell_type": "code",
   "execution_count": 63,
   "metadata": {},
   "outputs": [
    {
     "data": {
      "text/plain": [
       "0"
      ]
     },
     "execution_count": 63,
     "metadata": {},
     "output_type": "execute_result"
    }
   ],
   "source": [
    "gc.collect()"
   ]
  },
  {
   "cell_type": "code",
   "execution_count": 106,
   "metadata": {},
   "outputs": [
    {
     "name": "stdout",
     "output_type": "stream",
     "text": [
      "+----------+----------------+-----+\n",
      "|areaUnitID|   crashSeverity|count|\n",
      "+----------+----------------+-----+\n",
      "|  520500.0|Non-Injury Crash| 1914|\n",
      "|  514102.0|Non-Injury Crash| 1779|\n",
      "|  514103.0|Non-Injury Crash| 1272|\n",
      "|  524604.0|Non-Injury Crash| 1079|\n",
      "|  507900.0|Non-Injury Crash|  959|\n",
      "|  521901.0|Non-Injury Crash|  925|\n",
      "|  520202.0|Non-Injury Crash|  857|\n",
      "|  515202.0|Non-Injury Crash|  855|\n",
      "|  509800.0|Non-Injury Crash|  799|\n",
      "|  509702.0|Non-Injury Crash|  763|\n",
      "|  515700.0|Non-Injury Crash|  747|\n",
      "|  511303.0|Non-Injury Crash|  709|\n",
      "|  514200.0|Non-Injury Crash|  685|\n",
      "|  514101.0|Non-Injury Crash|  651|\n",
      "|  513301.0|Non-Injury Crash|  646|\n",
      "|  516001.0|Non-Injury Crash|  611|\n",
      "|  524602.0|Non-Injury Crash|  566|\n",
      "|  514801.0|Non-Injury Crash|  524|\n",
      "|  508420.0|Non-Injury Crash|  507|\n",
      "|  516003.0|Non-Injury Crash|  507|\n",
      "+----------+----------------+-----+\n",
      "only showing top 20 rows\n",
      "\n"
     ]
    }
   ],
   "source": [
    "overall.groupby('areaUnitID','crashSeverity').count().orderBy('count', ascending=False).show()"
   ]
  },
  {
   "cell_type": "code",
   "execution_count": 64,
   "metadata": {},
   "outputs": [
    {
     "data": {
      "text/plain": [
       "9"
      ]
     },
     "execution_count": 64,
     "metadata": {},
     "output_type": "execute_result"
    }
   ],
   "source": [
    "overall = overall.drop('areaUnitID')\n",
    "gc.collect()"
   ]
  },
  {
   "cell_type": "code",
   "execution_count": 65,
   "metadata": {},
   "outputs": [],
   "source": [
    "overall = overall.drop('crashFinancialYear')"
   ]
  },
  {
   "cell_type": "code",
   "execution_count": 69,
   "metadata": {},
   "outputs": [
    {
     "name": "stdout",
     "output_type": "stream",
     "text": [
      "+------------------+----------------+-----+\n",
      "|crashSHDescription|   crashSeverity|count|\n",
      "+------------------+----------------+-----+\n",
      "|                No|Non-Injury Crash|56940|\n",
      "|               Yes|Non-Injury Crash|14178|\n",
      "|                No|     Minor Crash|12682|\n",
      "|               Yes|     Minor Crash| 3135|\n",
      "|                No|   Serious Crash| 2582|\n",
      "|               Yes|   Serious Crash|  412|\n",
      "|                No|     Fatal Crash|  361|\n",
      "|               Yes|     Fatal Crash|  101|\n",
      "+------------------+----------------+-----+\n",
      "\n"
     ]
    }
   ],
   "source": [
    "overall.groupby('crashSHDescription','crashSeverity').count().orderBy('count', ascending=False).show()"
   ]
  },
  {
   "cell_type": "code",
   "execution_count": 66,
   "metadata": {},
   "outputs": [
    {
     "data": {
      "text/plain": [
       "14"
      ]
     },
     "execution_count": 66,
     "metadata": {},
     "output_type": "execute_result"
    }
   ],
   "source": [
    "overall = overall.drop('crashSHDescription')\n",
    "gc.collect()"
   ]
  },
  {
   "cell_type": "code",
   "execution_count": 71,
   "metadata": {},
   "outputs": [
    {
     "name": "stdout",
     "output_type": "stream",
     "text": [
      "+---------+----------------+-----+\n",
      "| flatHill|   crashSeverity|count|\n",
      "+---------+----------------+-----+\n",
      "|     Flat|Non-Injury Crash|56193|\n",
      "|Hill Road|Non-Injury Crash|14898|\n",
      "|     Flat|     Minor Crash|11765|\n",
      "|Hill Road|     Minor Crash| 4049|\n",
      "|     Flat|   Serious Crash| 2104|\n",
      "|Hill Road|   Serious Crash|  890|\n",
      "|     Flat|     Fatal Crash|  317|\n",
      "|Hill Road|     Fatal Crash|  145|\n",
      "|     Null|Non-Injury Crash|   27|\n",
      "|     Null|     Minor Crash|    3|\n",
      "+---------+----------------+-----+\n",
      "\n"
     ]
    }
   ],
   "source": [
    "overall.groupby('flatHill','crashSeverity').count().orderBy('count', ascending=False).show()"
   ]
  },
  {
   "cell_type": "code",
   "execution_count": 67,
   "metadata": {},
   "outputs": [
    {
     "data": {
      "text/plain": [
       "7"
      ]
     },
     "execution_count": 67,
     "metadata": {},
     "output_type": "execute_result"
    }
   ],
   "source": [
    "overall = overall.drop('flatHill')\n",
    "gc.collect()"
   ]
  },
  {
   "cell_type": "code",
   "execution_count": 73,
   "metadata": {},
   "outputs": [
    {
     "name": "stdout",
     "output_type": "stream",
     "text": [
      "+--------------------+----------------+-----+\n",
      "|intersectionMidblock|   crashSeverity|count|\n",
      "+--------------------+----------------+-----+\n",
      "|        Intersection|Non-Injury Crash|45073|\n",
      "|            Midblock|Non-Injury Crash|26045|\n",
      "|        Intersection|     Minor Crash| 9304|\n",
      "|            Midblock|     Minor Crash| 6513|\n",
      "|        Intersection|   Serious Crash| 1604|\n",
      "|            Midblock|   Serious Crash| 1390|\n",
      "|            Midblock|     Fatal Crash|  286|\n",
      "|        Intersection|     Fatal Crash|  176|\n",
      "+--------------------+----------------+-----+\n",
      "\n"
     ]
    }
   ],
   "source": [
    "overall.groupby('intersectionMidblock','crashSeverity').count().orderBy('count', ascending=False).show()"
   ]
  },
  {
   "cell_type": "code",
   "execution_count": 68,
   "metadata": {},
   "outputs": [
    {
     "data": {
      "text/plain": [
       "7"
      ]
     },
     "execution_count": 68,
     "metadata": {},
     "output_type": "execute_result"
    }
   ],
   "source": [
    "overall = overall.drop('intersectionMidblock')\n",
    "gc.collect()"
   ]
  },
  {
   "cell_type": "code",
   "execution_count": 75,
   "metadata": {},
   "outputs": [
    {
     "name": "stdout",
     "output_type": "stream",
     "text": [
      "+----------------+----------------+-----+\n",
      "|otherVehicleType|   crashSeverity|count|\n",
      "+----------------+----------------+-----+\n",
      "|             0.0|Non-Injury Crash|70793|\n",
      "|             0.0|     Minor Crash|15786|\n",
      "|             0.0|   Serious Crash| 2982|\n",
      "|             0.0|     Fatal Crash|  462|\n",
      "|             1.0|Non-Injury Crash|  321|\n",
      "|             1.0|     Minor Crash|   31|\n",
      "|             1.0|   Serious Crash|   12|\n",
      "|             2.0|Non-Injury Crash|    4|\n",
      "+----------------+----------------+-----+\n",
      "\n"
     ]
    }
   ],
   "source": [
    "overall.groupby('otherVehicleType','crashSeverity').count().orderBy('count', ascending=False).show()"
   ]
  },
  {
   "cell_type": "code",
   "execution_count": 69,
   "metadata": {},
   "outputs": [
    {
     "data": {
      "text/plain": [
       "7"
      ]
     },
     "execution_count": 69,
     "metadata": {},
     "output_type": "execute_result"
    }
   ],
   "source": [
    "overall = overall.drop('otherVehicleType')\n",
    "gc.collect()"
   ]
  },
  {
   "cell_type": "code",
   "execution_count": 77,
   "metadata": {},
   "outputs": [
    {
     "name": "stdout",
     "output_type": "stream",
     "text": [
      "+-------------+----------------+-----+\n",
      "|roadCurvature|   crashSeverity|count|\n",
      "+-------------+----------------+-----+\n",
      "|     Straight|Non-Injury Crash|51984|\n",
      "|       Curved|Non-Injury Crash|19134|\n",
      "|     Straight|     Minor Crash|11166|\n",
      "|       Curved|     Minor Crash| 4651|\n",
      "|     Straight|   Serious Crash| 1898|\n",
      "|       Curved|   Serious Crash| 1096|\n",
      "|     Straight|     Fatal Crash|  237|\n",
      "|       Curved|     Fatal Crash|  225|\n",
      "+-------------+----------------+-----+\n",
      "\n"
     ]
    }
   ],
   "source": [
    "overall.groupby('roadCurvature','crashSeverity').count().orderBy('count', ascending=False).show()"
   ]
  },
  {
   "cell_type": "code",
   "execution_count": 70,
   "metadata": {},
   "outputs": [
    {
     "data": {
      "text/plain": [
       "7"
      ]
     },
     "execution_count": 70,
     "metadata": {},
     "output_type": "execute_result"
    }
   ],
   "source": [
    "overall = overall.drop('roadCurvature')\n",
    "gc.collect()"
   ]
  },
  {
   "cell_type": "code",
   "execution_count": 79,
   "metadata": {},
   "outputs": [
    {
     "name": "stdout",
     "output_type": "stream",
     "text": [
      "+--------+----------------+-----+\n",
      "|roadLane|   crashSeverity|count|\n",
      "+--------+----------------+-----+\n",
      "|   2-way|Non-Injury Crash|58740|\n",
      "|   2-way|     Minor Crash|13316|\n",
      "|   1-way|Non-Injury Crash|10534|\n",
      "|   2-way|   Serious Crash| 2748|\n",
      "|   1-way|     Minor Crash| 2351|\n",
      "|Off road|Non-Injury Crash| 1842|\n",
      "|   2-way|     Fatal Crash|  422|\n",
      "|   1-way|   Serious Crash|  203|\n",
      "|Off road|     Minor Crash|  150|\n",
      "|Off road|   Serious Crash|   43|\n",
      "|   1-way|     Fatal Crash|   33|\n",
      "|Off road|     Fatal Crash|    7|\n",
      "|    Null|Non-Injury Crash|    2|\n",
      "+--------+----------------+-----+\n",
      "\n"
     ]
    }
   ],
   "source": [
    "overall.groupby('roadLane','crashSeverity').count().orderBy('count', ascending=False).show()"
   ]
  },
  {
   "cell_type": "code",
   "execution_count": 71,
   "metadata": {},
   "outputs": [
    {
     "data": {
      "text/plain": [
       "7"
      ]
     },
     "execution_count": 71,
     "metadata": {},
     "output_type": "execute_result"
    }
   ],
   "source": [
    "overall = overall.drop('roadLane')\n",
    "gc.collect()"
   ]
  },
  {
   "cell_type": "code",
   "execution_count": 81,
   "metadata": {},
   "outputs": [
    {
     "name": "stdout",
     "output_type": "stream",
     "text": [
      "+-----------+----------------+-----+\n",
      "|streetLight|   crashSeverity|count|\n",
      "+-----------+----------------+-----+\n",
      "|        Off|Non-Injury Crash|45589|\n",
      "|         On|Non-Injury Crash|20353|\n",
      "|        Off|     Minor Crash| 9664|\n",
      "|       None|Non-Injury Crash| 5176|\n",
      "|         On|     Minor Crash| 4539|\n",
      "|       None|     Minor Crash| 1614|\n",
      "|        Off|   Serious Crash| 1498|\n",
      "|         On|   Serious Crash| 1001|\n",
      "|       None|   Serious Crash|  495|\n",
      "|        Off|     Fatal Crash|  159|\n",
      "|         On|     Fatal Crash|  156|\n",
      "|       None|     Fatal Crash|  147|\n",
      "+-----------+----------------+-----+\n",
      "\n"
     ]
    }
   ],
   "source": [
    "overall.groupby('streetLight','crashSeverity').count().orderBy('count', ascending=False).show()"
   ]
  },
  {
   "cell_type": "code",
   "execution_count": 72,
   "metadata": {},
   "outputs": [
    {
     "data": {
      "text/plain": [
       "7"
      ]
     },
     "execution_count": 72,
     "metadata": {},
     "output_type": "execute_result"
    }
   ],
   "source": [
    "overall = overall.drop('streetLight')\n",
    "gc.collect()"
   ]
  },
  {
   "cell_type": "code",
   "execution_count": 90,
   "metadata": {},
   "outputs": [
    {
     "name": "stdout",
     "output_type": "stream",
     "text": [
      "+---+----------------+-----+\n",
      "|suv|   crashSeverity|count|\n",
      "+---+----------------+-----+\n",
      "|0.0|Non-Injury Crash|69258|\n",
      "|0.0|     Minor Crash|15295|\n",
      "|0.0|   Serious Crash| 2906|\n",
      "|1.0|Non-Injury Crash| 1785|\n",
      "|1.0|     Minor Crash|  494|\n",
      "|0.0|     Fatal Crash|  448|\n",
      "|1.0|   Serious Crash|   83|\n",
      "|2.0|Non-Injury Crash|   74|\n",
      "|2.0|     Minor Crash|   23|\n",
      "|1.0|     Fatal Crash|   13|\n",
      "|3.0|     Minor Crash|    5|\n",
      "|2.0|   Serious Crash|    5|\n",
      "|3.0|Non-Injury Crash|    1|\n",
      "|2.0|     Fatal Crash|    1|\n",
      "+---+----------------+-----+\n",
      "\n"
     ]
    }
   ],
   "source": [
    "overall.groupby('suv','crashSeverity').count().orderBy('count', ascending=False).show()"
   ]
  },
  {
   "cell_type": "code",
   "execution_count": 73,
   "metadata": {},
   "outputs": [
    {
     "data": {
      "text/plain": [
       "7"
      ]
     },
     "execution_count": 73,
     "metadata": {},
     "output_type": "execute_result"
    }
   ],
   "source": [
    "overall = overall.drop('suv')\n",
    "gc.collect()"
   ]
  },
  {
   "cell_type": "code",
   "execution_count": 74,
   "metadata": {},
   "outputs": [
    {
     "data": {
      "text/plain": [
       "(12,\n",
       " ['bicycle',\n",
       "  'carStationWagon',\n",
       "  'crashSeverity',\n",
       "  'fatalCount',\n",
       "  'minorInjuryCount',\n",
       "  'moped',\n",
       "  'motorcycle',\n",
       "  'seriousInjuryCount',\n",
       "  'speedLimit',\n",
       "  'urban',\n",
       "  'Year',\n",
       "  'sum'])"
      ]
     },
     "execution_count": 74,
     "metadata": {},
     "output_type": "execute_result"
    }
   ],
   "source": [
    "len(overall.columns), overall.columns"
   ]
  },
  {
   "cell_type": "code",
   "execution_count": 160,
   "metadata": {},
   "outputs": [
    {
     "name": "stdout",
     "output_type": "stream",
     "text": [
      "root\n",
      " |-- bicycle: float (nullable = true)\n",
      " |-- carStationWagon: float (nullable = true)\n",
      " |-- crashSeverity: string (nullable = true)\n",
      " |-- fatalCount: float (nullable = true)\n",
      " |-- minorInjuryCount: float (nullable = true)\n",
      " |-- moped: float (nullable = true)\n",
      " |-- motorcycle: float (nullable = true)\n",
      " |-- seriousInjuryCount: float (nullable = true)\n",
      " |-- speedLimit: float (nullable = true)\n",
      " |-- urban: string (nullable = true)\n",
      " |-- Year: float (nullable = true)\n",
      " |-- sum: float (nullable = true)\n",
      "\n"
     ]
    }
   ],
   "source": [
    "overall.printSchema()"
   ]
  },
  {
   "cell_type": "code",
   "execution_count": 168,
   "metadata": {},
   "outputs": [
    {
     "name": "stdout",
     "output_type": "stream",
     "text": [
      "+-----+-----+\n",
      "|urban|count|\n",
      "+-----+-----+\n",
      "|Urban|70164|\n",
      "| Open|20227|\n",
      "+-----+-----+\n",
      "\n"
     ]
    }
   ],
   "source": [
    "overall.groupby('urban').count().show()"
   ]
  },
  {
   "cell_type": "code",
   "execution_count": 75,
   "metadata": {},
   "outputs": [],
   "source": [
    "from pyspark.sql import functions as f"
   ]
  },
  {
   "cell_type": "code",
   "execution_count": 76,
   "metadata": {},
   "outputs": [],
   "source": [
    "overal = overall.withColumn('Urban', f.when(f.col('urban') == \"Urban\",1).otherwise(0))"
   ]
  },
  {
   "cell_type": "code",
   "execution_count": 87,
   "metadata": {},
   "outputs": [
    {
     "name": "stdout",
     "output_type": "stream",
     "text": [
      "+-----+-----+\n",
      "|urban|count|\n",
      "+-----+-----+\n",
      "|    1|70164|\n",
      "|    0|20227|\n",
      "+-----+-----+\n",
      "\n"
     ]
    }
   ],
   "source": [
    "overal.groupby('urban').count().show()"
   ]
  },
  {
   "cell_type": "code",
   "execution_count": 77,
   "metadata": {},
   "outputs": [
    {
     "data": {
      "text/plain": [
       "44"
      ]
     },
     "execution_count": 77,
     "metadata": {},
     "output_type": "execute_result"
    }
   ],
   "source": [
    "del overall\n",
    "gc.collect()"
   ]
  },
  {
   "cell_type": "code",
   "execution_count": 78,
   "metadata": {},
   "outputs": [
    {
     "data": {
      "text/plain": [
       "0"
      ]
     },
     "execution_count": 78,
     "metadata": {},
     "output_type": "execute_result"
    }
   ],
   "source": [
    "gc.collect()"
   ]
  },
  {
   "cell_type": "code",
   "execution_count": 79,
   "metadata": {},
   "outputs": [],
   "source": [
    "assembler = VectorAssembler(\n",
    "  inputCols=['bicycle',\n",
    "              'carStationWagon',\n",
    "              'fatalCount',\n",
    "              'minorInjuryCount',\n",
    "              'moped',\n",
    "              'motorcycle',\n",
    "              'seriousInjuryCount',\n",
    "              'speedLimit',\n",
    "              'Urban',\n",
    "              'Year',\n",
    "              'sum'],\n",
    "              outputCol=\"features\")"
   ]
  },
  {
   "cell_type": "code",
   "execution_count": 80,
   "metadata": {},
   "outputs": [],
   "source": [
    "output = assembler.transform(overal)"
   ]
  },
  {
   "cell_type": "code",
   "execution_count": 81,
   "metadata": {},
   "outputs": [],
   "source": [
    "from pyspark.ml.feature import StringIndexer"
   ]
  },
  {
   "cell_type": "code",
   "execution_count": 82,
   "metadata": {},
   "outputs": [],
   "source": [
    "indexer = StringIndexer(inputCol=\"crashSeverity\", outputCol=\"crashSeverityIndex\")\n",
    "output_fixed = indexer.fit(output).transform(output)"
   ]
  },
  {
   "cell_type": "code",
   "execution_count": 83,
   "metadata": {},
   "outputs": [],
   "source": [
    "final_data = output_fixed.select(\"features\",'crashSeverityIndex')"
   ]
  },
  {
   "cell_type": "code",
   "execution_count": 84,
   "metadata": {},
   "outputs": [
    {
     "data": {
      "text/plain": [
       "119"
      ]
     },
     "execution_count": 84,
     "metadata": {},
     "output_type": "execute_result"
    }
   ],
   "source": [
    "\n",
    "gc.collect()"
   ]
  },
  {
   "cell_type": "code",
   "execution_count": 96,
   "metadata": {},
   "outputs": [],
   "source": [
    "train_data,test_data = final_data.randomSplit([0.8,0.2])"
   ]
  },
  {
   "cell_type": "code",
   "execution_count": 97,
   "metadata": {},
   "outputs": [
    {
     "data": {
      "text/plain": [
       "(72427, 17964)"
      ]
     },
     "execution_count": 97,
     "metadata": {},
     "output_type": "execute_result"
    }
   ],
   "source": [
    "train_data.count(),test_data.count()"
   ]
  },
  {
   "cell_type": "code",
   "execution_count": 98,
   "metadata": {},
   "outputs": [
    {
     "data": {
      "text/plain": [
       "17"
      ]
     },
     "execution_count": 98,
     "metadata": {},
     "output_type": "execute_result"
    }
   ],
   "source": [
    "gc.collect()"
   ]
  },
  {
   "cell_type": "code",
   "execution_count": 85,
   "metadata": {},
   "outputs": [],
   "source": [
    "from pyspark.ml.evaluation import MulticlassClassificationEvaluator\n",
    "from pyspark.ml.classification import DecisionTreeClassifier"
   ]
  },
  {
   "cell_type": "code",
   "execution_count": 190,
   "metadata": {},
   "outputs": [],
   "source": [
    "decisiontree1 = DecisionTreeClassifier(labelCol='crashSeverityIndex',featuresCol='features')"
   ]
  },
  {
   "cell_type": "code",
   "execution_count": 191,
   "metadata": {},
   "outputs": [],
   "source": [
    "dtc_model1 = decisiontree1.fit(train_data)"
   ]
  },
  {
   "cell_type": "code",
   "execution_count": 193,
   "metadata": {},
   "outputs": [],
   "source": [
    "dtc_predictions1 = dtc_model1.transform(test_data)"
   ]
  },
  {
   "cell_type": "code",
   "execution_count": 194,
   "metadata": {},
   "outputs": [
    {
     "data": {
      "text/plain": [
       "140"
      ]
     },
     "execution_count": 194,
     "metadata": {},
     "output_type": "execute_result"
    }
   ],
   "source": [
    "gc.collect()"
   ]
  },
  {
   "cell_type": "code",
   "execution_count": 88,
   "metadata": {},
   "outputs": [],
   "source": [
    "my_fourclass_eval = MulticlassClassificationEvaluator(labelCol = 'crashSeverityIndex',\n",
    "                                                      predictionCol=\"prediction\", metricName=\"accuracy\")"
   ]
  },
  {
   "cell_type": "code",
   "execution_count": 203,
   "metadata": {},
   "outputs": [],
   "source": [
    "dtc_acc = my_fourclass_eval.evaluate(dtc_predictions1)"
   ]
  },
  {
   "cell_type": "code",
   "execution_count": 204,
   "metadata": {},
   "outputs": [
    {
     "name": "stdout",
     "output_type": "stream",
     "text": [
      "Here are the results!\n",
      "----------------------------------------\n",
      "A single decision tree has an accuracy of: 100.00%\n"
     ]
    }
   ],
   "source": [
    "print(\"Here are the results!\")\n",
    "print('-'*40)\n",
    "print('A single decision tree has an accuracy of: {0:2.2f}%'.format(dtc_acc*100))"
   ]
  },
  {
   "cell_type": "code",
   "execution_count": 206,
   "metadata": {},
   "outputs": [
    {
     "name": "stdout",
     "output_type": "stream",
     "text": [
      "DTC\n",
      "1.0\n"
     ]
    }
   ],
   "source": [
    "print(\"DTC\")\n",
    "print(my_fourclass_eval.evaluate(dtc_predictions1))"
   ]
  },
  {
   "cell_type": "code",
   "execution_count": 90,
   "metadata": {},
   "outputs": [
    {
     "data": {
      "text/plain": [
       "0"
      ]
     },
     "execution_count": 90,
     "metadata": {},
     "output_type": "execute_result"
    }
   ],
   "source": [
    "gc.collect()"
   ]
  },
  {
   "cell_type": "code",
   "execution_count": 213,
   "metadata": {},
   "outputs": [],
   "source": [
    "decisiontree2 = DecisionTreeClassifier(maxDepth=5, minInstancesPerNode=20,labelCol='crashSeverityIndex',featuresCol='features')\n",
    "dtc_model2 = decisiontree2.fit(train_data)\n",
    "dtc_predictions2 = dtc_model2.transform(test_data)"
   ]
  },
  {
   "cell_type": "code",
   "execution_count": 214,
   "metadata": {},
   "outputs": [
    {
     "name": "stdout",
     "output_type": "stream",
     "text": [
      "Here are the results!\n",
      "----------------------------------------\n",
      "A single decision tree has an accuracy of: 100.00%\n",
      "DTC\n",
      "1.0\n"
     ]
    }
   ],
   "source": [
    "dtc_acc = my_fourclass_eval.evaluate(dtc_predictions2)\n",
    "print(\"Here are the results!\")\n",
    "print('-'*40)\n",
    "print('A single decision tree has an accuracy of: {0:2.2f}%'.format(dtc_acc*100))\n",
    "print(\"DTC\")\n",
    "print(my_fourclass_eval.evaluate(dtc_predictions2))"
   ]
  },
  {
   "cell_type": "code",
   "execution_count": 218,
   "metadata": {},
   "outputs": [
    {
     "data": {
      "text/plain": [
       "0"
      ]
     },
     "execution_count": 218,
     "metadata": {},
     "output_type": "execute_result"
    }
   ],
   "source": [
    "gc.collect()"
   ]
  },
  {
   "cell_type": "code",
   "execution_count": 219,
   "metadata": {},
   "outputs": [],
   "source": [
    "decisiontree3 = DecisionTreeClassifier(maxDepth=5, minInstancesPerNode=50,labelCol='crashSeverityIndex',featuresCol='features')\n",
    "dtc_model3 = decisiontree3.fit(train_data)\n",
    "dtc_predictions3 = dtc_model3.transform(test_data)"
   ]
  },
  {
   "cell_type": "code",
   "execution_count": 220,
   "metadata": {},
   "outputs": [
    {
     "name": "stdout",
     "output_type": "stream",
     "text": [
      "Here are the results!\n",
      "----------------------------------------\n",
      "A single decision tree has an accuracy of: 99.96%\n",
      "DTC\n",
      "0.9995613073042334\n"
     ]
    }
   ],
   "source": [
    "dtc_acc = my_fourclass_eval.evaluate(dtc_predictions3)\n",
    "print(\"Here are the results!\")\n",
    "print('-'*40)\n",
    "print('A single decision tree has an accuracy of: {0:2.2f}%'.format(dtc_acc*100))\n",
    "print(\"DTC\")\n",
    "print(my_fourclass_eval.evaluate(dtc_predictions3))"
   ]
  },
  {
   "cell_type": "code",
   "execution_count": 119,
   "metadata": {},
   "outputs": [
    {
     "data": {
      "text/plain": [
       "0"
      ]
     },
     "execution_count": 119,
     "metadata": {},
     "output_type": "execute_result"
    }
   ],
   "source": [
    "gc.collect()"
   ]
  },
  {
   "cell_type": "code",
   "execution_count": 100,
   "metadata": {},
   "outputs": [],
   "source": [
    "decisiontree4 = DecisionTreeClassifier(maxDepth=5, minInstancesPerNode=100,labelCol='crashSeverityIndex',featuresCol='features')\n",
    "dtc_model4 = decisiontree4.fit(train_data)\n",
    "dtc_predictions4 = dtc_model4.transform(test_data)"
   ]
  },
  {
   "cell_type": "code",
   "execution_count": 103,
   "metadata": {},
   "outputs": [
    {
     "name": "stdout",
     "output_type": "stream",
     "text": [
      "Here are the results!\n",
      "----------------------------------------\n",
      "A single decision tree has an accuracy of: 99.70%\n",
      "DTC\n",
      "0.996993987975952\n"
     ]
    }
   ],
   "source": [
    "dtc_acc = my_fourclass_eval.evaluate(dtc_predictions4)\n",
    "print(\"Here are the results!\")\n",
    "print('-'*40)\n",
    "print('A single decision tree has an accuracy of: {0:2.2f}%'.format(dtc_acc*100))\n",
    "print(\"DTC\")\n",
    "print(my_fourclass_eval.evaluate(dtc_predictions4))"
   ]
  },
  {
   "cell_type": "code",
   "execution_count": 125,
   "metadata": {},
   "outputs": [],
   "source": [
    "cols=['bicycle',\n",
    "              'carStationWagon',\n",
    "              'fatalCount',\n",
    "              'minorInjuryCount',\n",
    "              'moped',\n",
    "              'motorcycle',\n",
    "              'seriousInjuryCount',\n",
    "              'speedLimit',\n",
    "              'Urban',\n",
    "              'Year',\n",
    "              'sum']"
   ]
  },
  {
   "cell_type": "code",
   "execution_count": 128,
   "metadata": {},
   "outputs": [
    {
     "name": "stdout",
     "output_type": "stream",
     "text": [
      "(0.798948551845183, 'minorInjuryCount')\n",
      "(0.18554439347979396, 'seriousInjuryCount')\n",
      "(0.015285295888357506, 'fatalCount')\n",
      "(0.0001725438511646926, 'speedLimit')\n",
      "(3.465926519987015e-05, 'Year')\n",
      "(1.1199161660389762e-05, 'carStationWagon')\n",
      "(3.356508640591013e-06, 'sum')\n"
     ]
    }
   ],
   "source": [
    "print(*sorted([ (i, n) for (i, n) in\n",
    "               zip(dtc_model4.featureImportances, cols )\n",
    "               if i != 0], reverse = True), sep='\\n')"
   ]
  },
  {
   "cell_type": "code",
   "execution_count": 126,
   "metadata": {},
   "outputs": [
    {
     "name": "stdout",
     "output_type": "stream",
     "text": [
      "DecisionTreeClassificationModel (uid=DecisionTreeClassifier_4d50ba90a1d8a2b82b2a) of depth 5 with 41 nodes\n",
      "  If (minorInjuryCount <= 0.0)\n",
      "   If (seriousInjuryCount <= 0.0)\n",
      "    If (fatalCount <= 0.0)\n",
      "     Predict: 0.0\n",
      "    Else (fatalCount > 0.0)\n",
      "     Predict: 3.0\n",
      "   Else (seriousInjuryCount > 0.0)\n",
      "    If (seriousInjuryCount <= 1.0)\n",
      "     If (speedLimit <= 60.0)\n",
      "      If (carStationWagon <= 1.0)\n",
      "       Predict: 2.0\n",
      "      Else (carStationWagon > 1.0)\n",
      "       Predict: 2.0\n",
      "     Else (speedLimit > 60.0)\n",
      "      If (sum <= 9.086999893188477)\n",
      "       Predict: 2.0\n",
      "      Else (sum > 9.086999893188477)\n",
      "       Predict: 2.0\n",
      "    Else (seriousInjuryCount > 1.0)\n",
      "     Predict: 2.0\n",
      "  Else (minorInjuryCount > 0.0)\n",
      "   If (seriousInjuryCount <= 0.0)\n",
      "    If (speedLimit <= 60.0)\n",
      "     If (minorInjuryCount <= 2.0)\n",
      "      If (minorInjuryCount <= 1.0)\n",
      "       Predict: 1.0\n",
      "      Else (minorInjuryCount > 1.0)\n",
      "       Predict: 1.0\n",
      "     Else (minorInjuryCount > 2.0)\n",
      "      If (carStationWagon <= 1.0)\n",
      "       Predict: 1.0\n",
      "      Else (carStationWagon > 1.0)\n",
      "       Predict: 1.0\n",
      "    Else (speedLimit > 60.0)\n",
      "     If (minorInjuryCount <= 1.0)\n",
      "      If (carStationWagon <= 0.0)\n",
      "       Predict: 1.0\n",
      "      Else (carStationWagon > 0.0)\n",
      "       Predict: 1.0\n",
      "     Else (minorInjuryCount > 1.0)\n",
      "      If (minorInjuryCount <= 2.0)\n",
      "       Predict: 1.0\n",
      "      Else (minorInjuryCount > 2.0)\n",
      "       Predict: 1.0\n",
      "   Else (seriousInjuryCount > 0.0)\n",
      "    If (speedLimit <= 80.0)\n",
      "     If (carStationWagon <= 1.0)\n",
      "      If (Year <= 2002.0)\n",
      "       Predict: 2.0\n",
      "      Else (Year > 2002.0)\n",
      "       Predict: 2.0\n",
      "     Else (carStationWagon > 1.0)\n",
      "      If (minorInjuryCount <= 1.0)\n",
      "       Predict: 2.0\n",
      "      Else (minorInjuryCount > 1.0)\n",
      "       Predict: 2.0\n",
      "    Else (speedLimit > 80.0)\n",
      "     If (Year <= 2002.0)\n",
      "      Predict: 2.0\n",
      "     Else (Year > 2002.0)\n",
      "      Predict: 2.0\n",
      "\n"
     ]
    }
   ],
   "source": [
    "import re\n",
    "regx = re.compile(r'(feature (\\d+))', re.M)\n",
    "m_desc = regx.sub(lambda m: cols[int(m.group(2))], dtc_model4.toDebugString)\n",
    "print(m_desc.replace('in {1.0}', 'is True').\\\n",
    "      replace('in {0.0}', 'is False').\\\n",
    "      replace('not is True', 'is False').\\\n",
    "      replace('not is False', 'is True'))"
   ]
  },
  {
   "cell_type": "code",
   "execution_count": 83,
   "metadata": {},
   "outputs": [
    {
     "name": "stdout",
     "output_type": "stream",
     "text": [
      "+------+----------------+-----+\n",
      "|  Year|   crashSeverity|count|\n",
      "+------+----------------+-----+\n",
      "|2003.0|     Minor Crash| 2528|\n",
      "|2001.0|     Minor Crash| 1935|\n",
      "|2004.0|   Serious Crash|  429|\n",
      "|2006.0|     Fatal Crash|   71|\n",
      "|2003.0|   Serious Crash|  422|\n",
      "|2003.0|     Fatal Crash|   71|\n",
      "|2000.0|     Minor Crash| 1783|\n",
      "|2006.0|     Minor Crash| 2470|\n",
      "|2006.0|   Serious Crash|  431|\n",
      "|2005.0|     Fatal Crash|   66|\n",
      "|2004.0|Non-Injury Crash| 8593|\n",
      "|2006.0|Non-Injury Crash| 9695|\n",
      "|2004.0|     Fatal Crash|   66|\n",
      "|2001.0|Non-Injury Crash|11096|\n",
      "|2003.0|Non-Injury Crash|10561|\n",
      "|2004.0|     Minor Crash| 2502|\n",
      "|2000.0|     Fatal Crash|   57|\n",
      "|2002.0|   Serious Crash|  510|\n",
      "|2005.0|     Minor Crash| 2415|\n",
      "|2002.0|     Minor Crash| 2184|\n",
      "+------+----------------+-----+\n",
      "only showing top 20 rows\n",
      "\n"
     ]
    }
   ],
   "source": [
    "year = overal.groupby('Year', 'crashSeverity').count()\n",
    "year.show()"
   ]
  },
  {
   "cell_type": "code",
   "execution_count": 84,
   "metadata": {},
   "outputs": [
    {
     "name": "stdout",
     "output_type": "stream",
     "text": [
      "+---------------+----------------+-----+\n",
      "|carStationWagon|   crashSeverity|count|\n",
      "+---------------+----------------+-----+\n",
      "|            8.0|     Minor Crash|    5|\n",
      "|            4.0|Non-Injury Crash|  663|\n",
      "|            5.0|Non-Injury Crash|  126|\n",
      "|            9.0|Non-Injury Crash|    1|\n",
      "|            1.0|Non-Injury Crash|24621|\n",
      "|            2.0|Non-Injury Crash|38695|\n",
      "|            5.0|     Fatal Crash|    1|\n",
      "|            0.0|     Fatal Crash|   97|\n",
      "|            0.0|Non-Injury Crash| 3132|\n",
      "|            3.0|Non-Injury Crash| 3851|\n",
      "|            9.0|     Minor Crash|    2|\n",
      "|            6.0|Non-Injury Crash|   20|\n",
      "|            3.0|     Minor Crash| 1130|\n",
      "|           10.0|     Minor Crash|    1|\n",
      "|            6.0|     Minor Crash|   16|\n",
      "|            5.0|   Serious Crash|    5|\n",
      "|            2.0|   Serious Crash|  660|\n",
      "|            2.0|     Minor Crash| 5543|\n",
      "|            1.0|     Fatal Crash|  267|\n",
      "|            3.0|   Serious Crash|   99|\n",
      "+---------------+----------------+-----+\n",
      "only showing top 20 rows\n",
      "\n"
     ]
    }
   ],
   "source": [
    "carStationWagon = overal.groupby('carStationWagon', 'crashSeverity').count()\n",
    "carStationWagon.show()"
   ]
  },
  {
   "cell_type": "code",
   "execution_count": 85,
   "metadata": {},
   "outputs": [
    {
     "name": "stdout",
     "output_type": "stream",
     "text": [
      "+--------+----------------+-----+\n",
      "|     sum|   crashSeverity|count|\n",
      "+--------+----------------+-----+\n",
      "|   9.141|     Minor Crash| 2528|\n",
      "|9.384001|   Serious Crash|  367|\n",
      "|   8.937|     Minor Crash| 1783|\n",
      "|    9.25|     Fatal Crash|   71|\n",
      "|8.889999|     Minor Crash| 2184|\n",
      "|8.889999|     Fatal Crash|   70|\n",
      "|    9.25|   Serious Crash|  431|\n",
      "|    9.25|     Minor Crash| 2470|\n",
      "|   8.937|     Fatal Crash|   57|\n",
      "|8.889999|   Serious Crash|  510|\n",
      "|    9.25|Non-Injury Crash| 9695|\n",
      "|   9.087|     Minor Crash| 2502|\n",
      "|9.384001|     Minor Crash| 2415|\n",
      "|   9.087|   Serious Crash|  429|\n",
      "|9.384001|Non-Injury Crash| 9487|\n",
      "|   9.141|Non-Injury Crash|10561|\n",
      "|9.384001|     Fatal Crash|   66|\n",
      "|   8.924|     Fatal Crash|   61|\n",
      "|   8.924|     Minor Crash| 1935|\n",
      "|   9.141|     Fatal Crash|   71|\n",
      "+--------+----------------+-----+\n",
      "only showing top 20 rows\n",
      "\n"
     ]
    }
   ],
   "source": [
    "sumalchol = overal.groupby('sum', 'crashSeverity').count()\n",
    "sumalchol.show()"
   ]
  },
  {
   "cell_type": "code",
   "execution_count": 118,
   "metadata": {},
   "outputs": [
    {
     "data": {
      "text/plain": [
       "0"
      ]
     },
     "execution_count": 118,
     "metadata": {},
     "output_type": "execute_result"
    }
   ],
   "source": [
    "gc.collect()"
   ]
  },
  {
   "cell_type": "code",
   "execution_count": 101,
   "metadata": {},
   "outputs": [
    {
     "name": "stdout",
     "output_type": "stream",
     "text": [
      "+----------------+-----+\n",
      "|   crashSeverity|count|\n",
      "+----------------+-----+\n",
      "|Non-Injury Crash|71118|\n",
      "|   Serious Crash| 2994|\n",
      "|     Fatal Crash|  462|\n",
      "|     Minor Crash|15817|\n",
      "+----------------+-----+\n",
      "\n"
     ]
    }
   ],
   "source": [
    "severity = overal.groupby('crashSeverity').count()\n",
    "severity.show()"
   ]
  },
  {
   "cell_type": "code",
   "execution_count": 106,
   "metadata": {},
   "outputs": [],
   "source": [
    "train_data,test_data = final_data.randomSplit([0.8,0.2])"
   ]
  },
  {
   "cell_type": "code",
   "execution_count": 119,
   "metadata": {},
   "outputs": [],
   "source": [
    "iteration1 = DecisionTreeClassifier(maxDepth=5, minInstancesPerNode=100,labelCol='crashSeverityIndex',featuresCol='features')\n",
    "int1_model = iteration1.fit(train_data)\n",
    "int1_pred = int1_model.transform(test_data)"
   ]
  },
  {
   "cell_type": "code",
   "execution_count": 122,
   "metadata": {},
   "outputs": [
    {
     "name": "stdout",
     "output_type": "stream",
     "text": [
      "Here are the results!\n",
      "----------------------------------------\n",
      "A single decision tree has an accuracy of: 99.79%\n",
      "DTC\n",
      "0.9978898267436694\n"
     ]
    }
   ],
   "source": [
    "int1 = my_fourclass_eval.evaluate(int1_pred)\n",
    "print(\"Here are the results!\")\n",
    "print('-'*40)\n",
    "print('A single decision tree has an accuracy of: {0:2.2f}%'.format(int1*100))\n",
    "print(\"DTC\")\n",
    "print(my_fourclass_eval.evaluate(int1_pred))"
   ]
  },
  {
   "cell_type": "code",
   "execution_count": 124,
   "metadata": {},
   "outputs": [
    {
     "data": {
      "text/plain": [
       "0"
      ]
     },
     "execution_count": 124,
     "metadata": {},
     "output_type": "execute_result"
    }
   ],
   "source": [
    "gc.collect()"
   ]
  },
  {
   "cell_type": "code",
   "execution_count": 91,
   "metadata": {},
   "outputs": [
    {
     "name": "stdout",
     "output_type": "stream",
     "text": [
      "Here are the results!\n",
      "----------------------------------------\n",
      "A single decision tree has an accuracy of: 99.74%\n",
      "DTC\n",
      "0.9974067534760539\n"
     ]
    }
   ],
   "source": [
    "train_data,test_data = final_data.randomSplit([0.8,0.2])\n",
    "iteration2 = DecisionTreeClassifier(maxDepth=5, minInstancesPerNode=100,labelCol='crashSeverityIndex',featuresCol='features')\n",
    "int2_model = iteration2.fit(train_data)\n",
    "int2_pred = int2_model.transform(test_data)\n",
    "int2 = my_fourclass_eval.evaluate(int2_pred)\n",
    "print(\"Here are the results!\")\n",
    "print('-'*40)\n",
    "print('A single decision tree has an accuracy of: {0:2.2f}%'.format(int2*100))\n",
    "print(\"DTC\")\n",
    "print(my_fourclass_eval.evaluate(int2_pred))"
   ]
  },
  {
   "cell_type": "code",
   "execution_count": 92,
   "metadata": {},
   "outputs": [
    {
     "name": "stdout",
     "output_type": "stream",
     "text": [
      "Here are the results!\n",
      "----------------------------------------\n",
      "A single decision tree has an accuracy of: 99.79%\n",
      "DTC\n",
      "0.9978540772532188\n"
     ]
    }
   ],
   "source": [
    "train_data,test_data = final_data.randomSplit([0.8,0.2])\n",
    "iteration3 = DecisionTreeClassifier(maxDepth=5, minInstancesPerNode=100,labelCol='crashSeverityIndex',featuresCol='features')\n",
    "int3_model = iteration3.fit(train_data)\n",
    "int3_pred = int3_model.transform(test_data)\n",
    "int3 = my_fourclass_eval.evaluate(int3_pred)\n",
    "print(\"Here are the results!\")\n",
    "print('-'*40)\n",
    "print('A single decision tree has an accuracy of: {0:2.2f}%'.format(int3*100))\n",
    "print(\"DTC\")\n",
    "print(my_fourclass_eval.evaluate(int3_pred))"
   ]
  },
  {
   "cell_type": "code",
   "execution_count": 93,
   "metadata": {},
   "outputs": [
    {
     "name": "stdout",
     "output_type": "stream",
     "text": [
      "Here are the results!\n",
      "----------------------------------------\n",
      "A single decision tree has an accuracy of: 99.74%\n",
      "DTC\n",
      "0.9973544973544973\n"
     ]
    }
   ],
   "source": [
    "train_data,test_data = final_data.randomSplit([0.8,0.2])\n",
    "iteration4 = DecisionTreeClassifier(maxDepth=5, minInstancesPerNode=100,labelCol='crashSeverityIndex',featuresCol='features')\n",
    "int4_model = iteration4.fit(train_data)\n",
    "int4_pred = int4_model.transform(test_data)\n",
    "int4 = my_fourclass_eval.evaluate(int4_pred)\n",
    "print(\"Here are the results!\")\n",
    "print('-'*40)\n",
    "print('A single decision tree has an accuracy of: {0:2.2f}%'.format(int4*100))\n",
    "print(\"DTC\")\n",
    "print(my_fourclass_eval.evaluate(int4_pred))"
   ]
  },
  {
   "cell_type": "code",
   "execution_count": 94,
   "metadata": {},
   "outputs": [
    {
     "data": {
      "text/plain": [
       "277"
      ]
     },
     "execution_count": 94,
     "metadata": {},
     "output_type": "execute_result"
    }
   ],
   "source": [
    "gc.collect()"
   ]
  },
  {
   "cell_type": "code",
   "execution_count": 95,
   "metadata": {},
   "outputs": [
    {
     "name": "stdout",
     "output_type": "stream",
     "text": [
      "Here are the results!\n",
      "----------------------------------------\n",
      "A single decision tree has an accuracy of: 99.82%\n",
      "DTC\n",
      "0.9982356508794178\n"
     ]
    }
   ],
   "source": [
    "train_data,test_data = final_data.randomSplit([0.8,0.2])\n",
    "iteration5 = DecisionTreeClassifier(maxDepth=5, minInstancesPerNode=100,labelCol='crashSeverityIndex',featuresCol='features')\n",
    "int5_model = iteration5.fit(train_data)\n",
    "int5_pred = int5_model.transform(test_data)\n",
    "int5 = my_fourclass_eval.evaluate(int5_pred)\n",
    "print(\"Here are the results!\")\n",
    "print('-'*40)\n",
    "print('A single decision tree has an accuracy of: {0:2.2f}%'.format(int5*100))\n",
    "print(\"DTC\")\n",
    "print(my_fourclass_eval.evaluate(int5_pred))"
   ]
  },
  {
   "cell_type": "code",
   "execution_count": null,
   "metadata": {},
   "outputs": [],
   "source": []
  }
 ],
 "metadata": {
  "kernelspec": {
   "display_name": "Python 3",
   "language": "python",
   "name": "python3"
  },
  "language_info": {
   "codemirror_mode": {
    "name": "ipython",
    "version": 3
   },
   "file_extension": ".py",
   "mimetype": "text/x-python",
   "name": "python",
   "nbconvert_exporter": "python",
   "pygments_lexer": "ipython3",
   "version": "3.5.2"
  }
 },
 "nbformat": 4,
 "nbformat_minor": 2
}
